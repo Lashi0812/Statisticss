{
 "cells": [
  {
   "cell_type": "code",
   "execution_count": 1,
   "id": "4d340fb6",
   "metadata": {},
   "outputs": [],
   "source": [
    "import pandas as pd\n",
    "import numpy as np\n",
    "\n",
    "import statsmodels.api as sm\n",
    "import scipy.stats as stat\n",
    "\n",
    "import matplotlib.pyplot as plt\n",
    "\n"
   ]
  },
  {
   "cell_type": "code",
   "execution_count": 2,
   "id": "522ddc45",
   "metadata": {},
   "outputs": [
    {
     "data": {
      "text/html": [
       "<div>\n",
       "<style scoped>\n",
       "    .dataframe tbody tr th:only-of-type {\n",
       "        vertical-align: middle;\n",
       "    }\n",
       "\n",
       "    .dataframe tbody tr th {\n",
       "        vertical-align: top;\n",
       "    }\n",
       "\n",
       "    .dataframe thead th {\n",
       "        text-align: right;\n",
       "    }\n",
       "</style>\n",
       "<table border=\"1\" class=\"dataframe\">\n",
       "  <thead>\n",
       "    <tr style=\"text-align: right;\">\n",
       "      <th></th>\n",
       "      <th>y</th>\n",
       "      <th>x1</th>\n",
       "      <th>x2</th>\n",
       "    </tr>\n",
       "  </thead>\n",
       "  <tbody>\n",
       "    <tr>\n",
       "      <th>0</th>\n",
       "      <td>16.68</td>\n",
       "      <td>7</td>\n",
       "      <td>560</td>\n",
       "    </tr>\n",
       "    <tr>\n",
       "      <th>1</th>\n",
       "      <td>11.50</td>\n",
       "      <td>3</td>\n",
       "      <td>220</td>\n",
       "    </tr>\n",
       "    <tr>\n",
       "      <th>2</th>\n",
       "      <td>12.03</td>\n",
       "      <td>3</td>\n",
       "      <td>340</td>\n",
       "    </tr>\n",
       "    <tr>\n",
       "      <th>3</th>\n",
       "      <td>14.88</td>\n",
       "      <td>4</td>\n",
       "      <td>80</td>\n",
       "    </tr>\n",
       "    <tr>\n",
       "      <th>4</th>\n",
       "      <td>13.75</td>\n",
       "      <td>6</td>\n",
       "      <td>150</td>\n",
       "    </tr>\n",
       "  </tbody>\n",
       "</table>\n",
       "</div>"
      ],
      "text/plain": [
       "       y  x1   x2\n",
       "0  16.68   7  560\n",
       "1  11.50   3  220\n",
       "2  12.03   3  340\n",
       "3  14.88   4   80\n",
       "4  13.75   6  150"
      ]
     },
     "execution_count": 2,
     "metadata": {},
     "output_type": "execute_result"
    }
   ],
   "source": [
    "soft_drink = pd.read_excel(\"data/soft_drink.xlsx\",\n",
    "                          header=None,\n",
    "                          names=[\"y\",\"x1\",\"x2\"])\n",
    "soft_drink.head()"
   ]
  },
  {
   "cell_type": "markdown",
   "id": "e38f2618",
   "metadata": {},
   "source": [
    "# Method of scaling residual"
   ]
  },
  {
   "cell_type": "code",
   "execution_count": 68,
   "id": "9192d739",
   "metadata": {
    "scrolled": true
   },
   "outputs": [
    {
     "data": {
      "text/html": [
       "<div>\n",
       "<style scoped>\n",
       "    .dataframe tbody tr th:only-of-type {\n",
       "        vertical-align: middle;\n",
       "    }\n",
       "\n",
       "    .dataframe tbody tr th {\n",
       "        vertical-align: top;\n",
       "    }\n",
       "\n",
       "    .dataframe thead th {\n",
       "        text-align: right;\n",
       "    }\n",
       "</style>\n",
       "<table border=\"1\" class=\"dataframe\">\n",
       "  <thead>\n",
       "    <tr style=\"text-align: right;\">\n",
       "      <th></th>\n",
       "      <th>x1</th>\n",
       "      <th>x2</th>\n",
       "    </tr>\n",
       "  </thead>\n",
       "  <tbody>\n",
       "    <tr>\n",
       "      <th>0</th>\n",
       "      <td>7</td>\n",
       "      <td>560</td>\n",
       "    </tr>\n",
       "    <tr>\n",
       "      <th>1</th>\n",
       "      <td>3</td>\n",
       "      <td>220</td>\n",
       "    </tr>\n",
       "    <tr>\n",
       "      <th>2</th>\n",
       "      <td>3</td>\n",
       "      <td>340</td>\n",
       "    </tr>\n",
       "    <tr>\n",
       "      <th>3</th>\n",
       "      <td>4</td>\n",
       "      <td>80</td>\n",
       "    </tr>\n",
       "    <tr>\n",
       "      <th>4</th>\n",
       "      <td>6</td>\n",
       "      <td>150</td>\n",
       "    </tr>\n",
       "  </tbody>\n",
       "</table>\n",
       "</div>"
      ],
      "text/plain": [
       "   x1   x2\n",
       "0   7  560\n",
       "1   3  220\n",
       "2   3  340\n",
       "3   4   80\n",
       "4   6  150"
      ]
     },
     "execution_count": 68,
     "metadata": {},
     "output_type": "execute_result"
    }
   ],
   "source": [
    "X_soft_drink = soft_drink[[\"x1\",\"x2\"]]\n",
    "X_soft_drink.head()"
   ]
  },
  {
   "cell_type": "code",
   "execution_count": 70,
   "id": "eefc40ce",
   "metadata": {},
   "outputs": [
    {
     "data": {
      "text/plain": [
       "array([1, 1, 1, 1, 1, 1, 1, 1, 1, 1, 1, 1, 1, 1, 1, 1, 1, 1, 1, 1, 1, 1,\n",
       "       1, 1, 1], dtype=int64)"
      ]
     },
     "execution_count": 70,
     "metadata": {},
     "output_type": "execute_result"
    }
   ],
   "source": [
    "np.ones_like(X_soft_drink.x1)"
   ]
  },
  {
   "cell_type": "code",
   "execution_count": 97,
   "id": "1f3f43f0",
   "metadata": {},
   "outputs": [
    {
     "data": {
      "text/html": [
       "<div>\n",
       "<style scoped>\n",
       "    .dataframe tbody tr th:only-of-type {\n",
       "        vertical-align: middle;\n",
       "    }\n",
       "\n",
       "    .dataframe tbody tr th {\n",
       "        vertical-align: top;\n",
       "    }\n",
       "\n",
       "    .dataframe thead th {\n",
       "        text-align: right;\n",
       "    }\n",
       "</style>\n",
       "<table border=\"1\" class=\"dataframe\">\n",
       "  <thead>\n",
       "    <tr style=\"text-align: right;\">\n",
       "      <th></th>\n",
       "      <th>intercpt</th>\n",
       "      <th>x1</th>\n",
       "      <th>x2</th>\n",
       "    </tr>\n",
       "  </thead>\n",
       "  <tbody>\n",
       "    <tr>\n",
       "      <th>0</th>\n",
       "      <td>1</td>\n",
       "      <td>7</td>\n",
       "      <td>560</td>\n",
       "    </tr>\n",
       "    <tr>\n",
       "      <th>1</th>\n",
       "      <td>1</td>\n",
       "      <td>3</td>\n",
       "      <td>220</td>\n",
       "    </tr>\n",
       "    <tr>\n",
       "      <th>2</th>\n",
       "      <td>1</td>\n",
       "      <td>3</td>\n",
       "      <td>340</td>\n",
       "    </tr>\n",
       "    <tr>\n",
       "      <th>3</th>\n",
       "      <td>1</td>\n",
       "      <td>4</td>\n",
       "      <td>80</td>\n",
       "    </tr>\n",
       "    <tr>\n",
       "      <th>4</th>\n",
       "      <td>1</td>\n",
       "      <td>6</td>\n",
       "      <td>150</td>\n",
       "    </tr>\n",
       "  </tbody>\n",
       "</table>\n",
       "</div>"
      ],
      "text/plain": [
       "   intercpt  x1   x2\n",
       "0         1   7  560\n",
       "1         1   3  220\n",
       "2         1   3  340\n",
       "3         1   4   80\n",
       "4         1   6  150"
      ]
     },
     "execution_count": 97,
     "metadata": {},
     "output_type": "execute_result"
    }
   ],
   "source": [
    "X_soft_drink.head()"
   ]
  },
  {
   "cell_type": "code",
   "execution_count": 21,
   "id": "12f8215e",
   "metadata": {},
   "outputs": [
    {
     "data": {
      "text/plain": [
       "<AxesSubplot:xlabel='x1', ylabel='x2'>"
      ]
     },
     "execution_count": 21,
     "metadata": {},
     "output_type": "execute_result"
    },
    {
     "data": {
      "image/png": "[encoded data removed]",
      "text/plain": [
       "<Figure size 432x288 with 1 Axes>"
      ]
     },
     "metadata": {
      "needs_background": "light"
     },
     "output_type": "display_data"
    }
   ],
   "source": [
    "X_soft_drink.plot(\"x1\",\"x2\",kind=\"scatter\")"
   ]
  },
  {
   "cell_type": "code",
   "execution_count": 5,
   "id": "6e59b69e",
   "metadata": {},
   "outputs": [
    {
     "data": {
      "text/plain": [
       "0    16.68\n",
       "1    11.50\n",
       "2    12.03\n",
       "3    14.88\n",
       "4    13.75\n",
       "Name: y, dtype: float64"
      ]
     },
     "execution_count": 5,
     "metadata": {},
     "output_type": "execute_result"
    }
   ],
   "source": [
    "Y_soft_drink = soft_drink[\"y\"]\n",
    "Y_soft_drink.head()"
   ]
  },
  {
   "cell_type": "code",
   "execution_count": 74,
   "id": "57c59b94",
   "metadata": {},
   "outputs": [],
   "source": [
    "lr_soft_drink = sm.OLS(Y_soft_drink,X_soft_drink).fit()"
   ]
  },
  {
   "cell_type": "code",
   "execution_count": 75,
   "id": "f219ef94",
   "metadata": {},
   "outputs": [
    {
     "data": {
      "text/html": [
       "<div>\n",
       "<style scoped>\n",
       "    .dataframe tbody tr th:only-of-type {\n",
       "        vertical-align: middle;\n",
       "    }\n",
       "\n",
       "    .dataframe tbody tr th {\n",
       "        vertical-align: top;\n",
       "    }\n",
       "\n",
       "    .dataframe thead th {\n",
       "        text-align: right;\n",
       "    }\n",
       "</style>\n",
       "<table border=\"1\" class=\"dataframe\">\n",
       "  <thead>\n",
       "    <tr style=\"text-align: right;\">\n",
       "      <th></th>\n",
       "      <th>residual</th>\n",
       "    </tr>\n",
       "  </thead>\n",
       "  <tbody>\n",
       "    <tr>\n",
       "      <th>0</th>\n",
       "      <td>-5.028084</td>\n",
       "    </tr>\n",
       "    <tr>\n",
       "      <th>1</th>\n",
       "      <td>1.146385</td>\n",
       "    </tr>\n",
       "    <tr>\n",
       "      <th>2</th>\n",
       "      <td>-0.049794</td>\n",
       "    </tr>\n",
       "    <tr>\n",
       "      <th>3</th>\n",
       "      <td>4.924354</td>\n",
       "    </tr>\n",
       "    <tr>\n",
       "      <th>4</th>\n",
       "      <td>-0.444398</td>\n",
       "    </tr>\n",
       "  </tbody>\n",
       "</table>\n",
       "</div>"
      ],
      "text/plain": [
       "   residual\n",
       "0 -5.028084\n",
       "1  1.146385\n",
       "2 -0.049794\n",
       "3  4.924354\n",
       "4 -0.444398"
      ]
     },
     "execution_count": 75,
     "metadata": {},
     "output_type": "execute_result"
    }
   ],
   "source": [
    "scaled_residual = pd.DataFrame(lr_soft_drink.resid,\n",
    "                              columns=[\"residual\"])\n",
    "scaled_residual.head()"
   ]
  },
  {
   "cell_type": "markdown",
   "id": "f55b2e5e",
   "metadata": {
    "heading_collapsed": true
   },
   "source": [
    "## Hat Matrix \n",
    "\n",
    "$$H = X(X^\\intercal X)^{-1} X^\\intercal$$\n",
    "\n",
    "1. This matrix one of the important matrix in the Linear regression.\n",
    "2. the diagonal of this matirx $h_{ii}$ tell the distance of point $x_i$ in the euclidean space from the centeriod.\n",
    "3. this matrix help to detect the extrapolation while predicting using the model.\n"
   ]
  },
  {
   "cell_type": "markdown",
   "id": "a8d04bdb",
   "metadata": {
    "hidden": true
   },
   "source": [
    "**Step to find the extrapolation:**\n",
    "1.  Find the $h_{max}$ from the diagonal element of hat matrix\n",
    "2.  Find the $h_{00}$ for the the given point say $x_0$\n",
    "$$h_{00} = x_0^\\intercal (X^\\intercal X)^{-1} x_0$$\n",
    "\n",
    "3. if the $h_{00} \\gt h_{max}$ then the given point is extrapolated"
   ]
  },
  {
   "cell_type": "code",
   "execution_count": 102,
   "id": "daca5c45",
   "metadata": {
    "hidden": true
   },
   "outputs": [],
   "source": [
    "inv_cov_mat_soft_drink = np.linalg.inv(X_soft_drink.T.dot(X_soft_drink))\n",
    "hat_matrix_soft_drink  = X_soft_drink.dot(inv_cov_mat_soft_drink.dot(X_soft_drink.T))\n"
   ]
  },
  {
   "cell_type": "code",
   "execution_count": 103,
   "id": "05511ff5",
   "metadata": {
    "hidden": true
   },
   "outputs": [],
   "source": [
    "h_ii = hat_matrix_soft_drink.to_numpy().diagonal()\n",
    "h_max = h_ii.max()"
   ]
  },
  {
   "cell_type": "code",
   "execution_count": 104,
   "id": "5ebdddaa",
   "metadata": {
    "hidden": true
   },
   "outputs": [
    {
     "data": {
      "text/plain": [
       "0.498292159124427"
      ]
     },
     "execution_count": 104,
     "metadata": {},
     "output_type": "execute_result"
    }
   ],
   "source": [
    "h_max"
   ]
  },
  {
   "cell_type": "code",
   "execution_count": 105,
   "id": "36ab4f1b",
   "metadata": {
    "hidden": true
   },
   "outputs": [
    {
     "data": {
      "text/plain": [
       "array([[  1],\n",
       "       [  8],\n",
       "       [275]])"
      ]
     },
     "execution_count": 105,
     "metadata": {},
     "output_type": "execute_result"
    }
   ],
   "source": [
    "x_0 "
   ]
  },
  {
   "cell_type": "code",
   "execution_count": 122,
   "id": "cb0d2886",
   "metadata": {
    "hidden": true
   },
   "outputs": [
    {
     "data": {
      "text/plain": [
       "array([  1,   8, 275])"
      ]
     },
     "execution_count": 122,
     "metadata": {},
     "output_type": "execute_result"
    }
   ],
   "source": [
    "x_0.squeeze()"
   ]
  },
  {
   "cell_type": "code",
   "execution_count": 115,
   "id": "1d2ff69e",
   "metadata": {
    "hidden": true
   },
   "outputs": [
    {
     "data": {
      "text/plain": [
       "array(0.05397255)"
      ]
     },
     "execution_count": 115,
     "metadata": {},
     "output_type": "execute_result"
    }
   ],
   "source": [
    "h_00 = x_0.T.dot(inv_cov_mat_soft_drink.dot(x_0))\n",
    "h_00.squeeze()"
   ]
  },
  {
   "cell_type": "code",
   "execution_count": 127,
   "id": "b748f87b",
   "metadata": {
    "hidden": true
   },
   "outputs": [],
   "source": [
    "def find_extrapolation(point,h_max):\n",
    "    h_00 = point.T.dot(inv_cov_mat_soft_drink.dot(point))\n",
    "    if(h_00 > h_max):\n",
    "        print(f\"The point {point.squeeze()} is an extrapolation point. \\n since h_ 00 = {h_00.squeeze():.3f} > h_max = {h_max:.3f}\")\n",
    "    else:\n",
    "         print(f\"The point {point.squeeze()} is an intrapolation point. \\n since h_00 = {h_00.squeeze():.3f} < h_max = {h_max:.3f}\")"
   ]
  },
  {
   "cell_type": "code",
   "execution_count": 128,
   "id": "5b7ed33e",
   "metadata": {
    "hidden": true
   },
   "outputs": [
    {
     "name": "stdout",
     "output_type": "stream",
     "text": [
      "The point [  1   8 275] is an intrapolation point. \n",
      " since h_00 = 0.054 < h_max = 0.498\n"
     ]
    }
   ],
   "source": [
    "find_extrapolation(x_0,h_max)"
   ]
  },
  {
   "cell_type": "code",
   "execution_count": 129,
   "id": "a8fc858c",
   "metadata": {
    "hidden": true
   },
   "outputs": [
    {
     "name": "stdout",
     "output_type": "stream",
     "text": [
      "The point [  1  20 250] is an extrapolation point. \n",
      " since h_ 00 = 0.589 > h_max = 0.498\n"
     ]
    }
   ],
   "source": [
    "find_extrapolation(np.array([1,20,250]).reshape((-1,1)),h_max)"
   ]
  },
  {
   "cell_type": "code",
   "execution_count": 130,
   "id": "e83592f9",
   "metadata": {
    "hidden": true
   },
   "outputs": [
    {
     "name": "stdout",
     "output_type": "stream",
     "text": [
      "The point [  1  28 500] is an extrapolation point. \n",
      " since h_ 00 = 0.899 > h_max = 0.498\n"
     ]
    }
   ],
   "source": [
    "find_extrapolation(np.array([1,28,500]).reshape((-1,1)),h_max)"
   ]
  },
  {
   "cell_type": "markdown",
   "id": "44c56b5f",
   "metadata": {},
   "source": [
    "## Standardized Residual \n",
    "\n",
    "$$d_i = \\frac{e_i}{\\sqrt{MS_{res}}}$$\n",
    "\n",
    "\n",
    "1. The average variance is estimated using the $MS_{res}$\n",
    "2. Standardized residual have mean zero.\n",
    "3. Standardized residual has apprx unit variance.\n",
    "\n",
    "<span class=\"mark\">IF $d_i \\gt 3$ indicate the outlier.</span>"
   ]
  },
  {
   "cell_type": "code",
   "execution_count": 76,
   "id": "c975e9e6",
   "metadata": {},
   "outputs": [],
   "source": [
    "scaled_residual[\"std_residual\"] = scaled_residual.residual / np.sqrt(\n",
    "    lr_soft_drink.mse_resid)"
   ]
  },
  {
   "cell_type": "code",
   "execution_count": 77,
   "id": "2c8ba7a7",
   "metadata": {},
   "outputs": [
    {
     "data": {
      "text/html": [
       "<div>\n",
       "<style scoped>\n",
       "    .dataframe tbody tr th:only-of-type {\n",
       "        vertical-align: middle;\n",
       "    }\n",
       "\n",
       "    .dataframe tbody tr th {\n",
       "        vertical-align: top;\n",
       "    }\n",
       "\n",
       "    .dataframe thead th {\n",
       "        text-align: right;\n",
       "    }\n",
       "</style>\n",
       "<table border=\"1\" class=\"dataframe\">\n",
       "  <thead>\n",
       "    <tr style=\"text-align: right;\">\n",
       "      <th></th>\n",
       "      <th>residual</th>\n",
       "      <th>std_residual</th>\n",
       "    </tr>\n",
       "  </thead>\n",
       "  <tbody>\n",
       "    <tr>\n",
       "      <th>0</th>\n",
       "      <td>-5.028084</td>\n",
       "      <td>-1.542606</td>\n",
       "    </tr>\n",
       "    <tr>\n",
       "      <th>1</th>\n",
       "      <td>1.146385</td>\n",
       "      <td>0.351709</td>\n",
       "    </tr>\n",
       "    <tr>\n",
       "      <th>2</th>\n",
       "      <td>-0.049794</td>\n",
       "      <td>-0.015277</td>\n",
       "    </tr>\n",
       "    <tr>\n",
       "      <th>3</th>\n",
       "      <td>4.924354</td>\n",
       "      <td>1.510782</td>\n",
       "    </tr>\n",
       "    <tr>\n",
       "      <th>4</th>\n",
       "      <td>-0.444398</td>\n",
       "      <td>-0.136341</td>\n",
       "    </tr>\n",
       "  </tbody>\n",
       "</table>\n",
       "</div>"
      ],
      "text/plain": [
       "   residual  std_residual\n",
       "0 -5.028084     -1.542606\n",
       "1  1.146385      0.351709\n",
       "2 -0.049794     -0.015277\n",
       "3  4.924354      1.510782\n",
       "4 -0.444398     -0.136341"
      ]
     },
     "execution_count": 77,
     "metadata": {},
     "output_type": "execute_result"
    }
   ],
   "source": [
    "scaled_residual.head()"
   ]
  },
  {
   "cell_type": "code",
   "execution_count": 78,
   "id": "b4e50451",
   "metadata": {},
   "outputs": [
    {
     "data": {
      "text/plain": [
       "0    -1.542606\n",
       "1     0.351709\n",
       "2    -0.015277\n",
       "3     1.510782\n",
       "4    -0.136341\n",
       "5    -0.088841\n",
       "6     0.259129\n",
       "7     0.354844\n",
       "8     2.276351\n",
       "9     0.729079\n",
       "10    0.686458\n",
       "11   -0.181944\n",
       "12    0.315084\n",
       "13    0.327518\n",
       "14    0.205923\n",
       "15   -0.203385\n",
       "16    0.133874\n",
       "17    1.058030\n",
       "18    0.550148\n",
       "19   -1.775738\n",
       "20   -0.802025\n",
       "21   -1.131019\n",
       "22   -1.413593\n",
       "23   -1.402942\n",
       "24   -0.065220\n",
       "Name: std_residual, dtype: float64"
      ]
     },
     "execution_count": 78,
     "metadata": {},
     "output_type": "execute_result"
    }
   ],
   "source": [
    "scaled_residual.std_residual"
   ]
  },
  {
   "cell_type": "code",
   "execution_count": 79,
   "id": "28886aca",
   "metadata": {},
   "outputs": [
    {
     "data": {
      "text/plain": [
       "5.312417172831374e-16"
      ]
     },
     "execution_count": 79,
     "metadata": {},
     "output_type": "execute_result"
    }
   ],
   "source": [
    "scaled_residual.std_residual.mean()"
   ]
  },
  {
   "cell_type": "code",
   "execution_count": 80,
   "id": "d3b785d5",
   "metadata": {},
   "outputs": [
    {
     "data": {
      "text/plain": [
       "0.957427107756338"
      ]
     },
     "execution_count": 80,
     "metadata": {},
     "output_type": "execute_result"
    }
   ],
   "source": [
    "scaled_residual.std_residual.std()"
   ]
  },
  {
   "cell_type": "markdown",
   "id": "1e6269b7",
   "metadata": {},
   "source": [
    "## Studentized Residual\n"
   ]
  },
  {
   "cell_type": "code",
   "execution_count": 133,
   "id": "78f7ef8c",
   "metadata": {},
   "outputs": [],
   "source": [
    "inv_cov_mat_soft_drink = np.linalg.inv(X_soft_drink.T.dot(X_soft_drink))\n",
    "hat_matrix_soft_drink  = X_soft_drink.dot(inv_cov_mat_soft_drink.dot(X_soft_drink.T))\n"
   ]
  },
  {
   "cell_type": "code",
   "execution_count": 135,
   "id": "5fc2b45b",
   "metadata": {},
   "outputs": [
    {
     "data": {
      "text/plain": [
       "(25,)"
      ]
     },
     "execution_count": 135,
     "metadata": {},
     "output_type": "execute_result"
    }
   ],
   "source": [
    "h_ii = hat_matrix_soft_drink.to_numpy().diagonal()\n",
    "h_ii.shape"
   ]
  },
  {
   "cell_type": "code",
   "execution_count": 138,
   "id": "f198b0d2",
   "metadata": {},
   "outputs": [],
   "source": [
    "scaled_residual[\"student_residual\"] = scaled_residual[\"residual\"]/np.sqrt(lr_soft_drink.mse_resid * (1 - h_ii))"
   ]
  },
  {
   "cell_type": "code",
   "execution_count": 136,
   "id": "1dad5d41",
   "metadata": {},
   "outputs": [
    {
     "data": {
      "text/plain": [
       "array([0.89819822, 0.92929836, 0.90126524, 0.91462521, 0.9249895 ,\n",
       "       0.95713307, 0.91820133, 0.93627441, 0.50170784, 0.80370405,\n",
       "       0.9138674 , 0.8863443 , 0.93887537, 0.92175668, 0.95888923,\n",
       "       0.83405957, 0.94056798, 0.90373954, 0.90355143, 0.89831514,\n",
       "       0.83472311, 0.60842478, 0.95873995, 0.87939174, 0.93335655])"
      ]
     },
     "execution_count": 136,
     "metadata": {},
     "output_type": "execute_result"
    }
   ],
   "source": [
    "1 -h_ii"
   ]
  },
  {
   "cell_type": "code",
   "execution_count": 137,
   "id": "f86274b5",
   "metadata": {},
   "outputs": [
    {
     "data": {
      "text/plain": [
       "array([0.10180178, 0.07070164, 0.09873476, 0.08537479, 0.0750105 ,\n",
       "       0.04286693, 0.08179867, 0.06372559, 0.49829216, 0.19629595,\n",
       "       0.0861326 , 0.1136557 , 0.06112463, 0.07824332, 0.04111077,\n",
       "       0.16594043, 0.05943202, 0.09626046, 0.09644857, 0.10168486,\n",
       "       0.16527689, 0.39157522, 0.04126005, 0.12060826, 0.06664345])"
      ]
     },
     "execution_count": 137,
     "metadata": {},
     "output_type": "execute_result"
    }
   ],
   "source": [
    "h_ii"
   ]
  },
  {
   "cell_type": "code",
   "execution_count": null,
   "id": "ac86f20a",
   "metadata": {},
   "outputs": [],
   "source": []
  }
 ],
 "metadata": {
  "kernelspec": {
   "display_name": "Python 3 (ipykernel)",
   "language": "python",
   "name": "python3"
  },
  "language_info": {
   "codemirror_mode": {
    "name": "ipython",
    "version": 3
   },
   "file_extension": ".py",
   "mimetype": "text/x-python",
   "name": "python",
   "nbconvert_exporter": "python",
   "pygments_lexer": "ipython3",
   "version": "3.9.12"
  },
  "toc": {
   "base_numbering": 1,
   "nav_menu": {},
   "number_sections": true,
   "sideBar": true,
   "skip_h1_title": false,
   "title_cell": "Table of Contents",
   "title_sidebar": "Contents",
   "toc_cell": false,
   "toc_position": {},
   "toc_section_display": true,
   "toc_window_display": false
  },
  "varInspector": {
   "cols": {
    "lenName": 16,
    "lenType": 16,
    "lenVar": 40
   },
   "kernels_config": {
    "python": {
     "delete_cmd_postfix": "",
     "delete_cmd_prefix": "del ",
     "library": "var_list.py",
     "varRefreshCmd": "print(var_dic_list())"
    },
    "r": {
     "delete_cmd_postfix": ") ",
     "delete_cmd_prefix": "rm(",
     "library": "var_list.r",
     "varRefreshCmd": "cat(var_dic_list()) "
    }
   },
   "types_to_exclude": [
    "module",
    "function",
    "builtin_function_or_method",
    "instance",
    "_Feature"
   ],
   "window_display": false
  }
 },
 "nbformat": 4,
 "nbformat_minor": 5
}
