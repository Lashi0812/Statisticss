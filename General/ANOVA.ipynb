{
 "cells": [
  {
   "cell_type": "markdown",
   "source": [
    "# Why ANOVA\n",
    "\n",
    "1. What if we wish to compare the mean of **more than two population**?\n",
    "2. What if we wish to compare population each contain **several level or subgroups**?"
   ],
   "metadata": {
    "collapsed": false,
    "pycharm": {
     "name": "#%% md\n"
    }
   }
  },
  {
   "cell_type": "markdown",
   "source": [
    "Suppose we want to compare the THREE sample means **to see if a difference exists among them**\n",
    "\n",
    "<img src=\"image/image (1).png\">\n",
    "<img src=\"image/image (2).png\">\n",
    "<img src=\"image/image (3).png\">\n",
    "\n",
    "\n",
    "What we are asking is ?\n",
    "\n",
    "1. Do all the three mean comes from the same population?\n",
    "2. Is one mean so far way from the other two that iit is likely nor from the same population?\n",
    "3. all three are apart from each other that is all from the unique population?\n",
    "\n"
   ],
   "metadata": {
    "collapsed": false,
    "pycharm": {
     "name": "#%% md\n"
    }
   }
  },
  {
   "cell_type": "markdown",
   "source": [
    "# Variability Ratio\n",
    "\n",
    "<img src=\"image/image (4).png\">\n",
    "<br>\n",
    "<img src=\"image/image (5).png\">"
   ],
   "metadata": {
    "collapsed": false,
    "pycharm": {
     "name": "#%% md\n"
    }
   }
  },
  {
   "cell_type": "markdown",
   "source": [
    "# When to reject\n",
    "\n",
    "<img src=\"image/image (6).png\">"
   ],
   "metadata": {
    "collapsed": false,
    "pycharm": {
     "name": "#%% md\n"
    }
   }
  },
  {
   "cell_type": "markdown",
   "source": [
    "# Problem\n",
    "\n",
    "> 21 student at the college were selected for an informal study about study skill.\n",
    "   * 7 from 1st year\n",
    "   * 7 from second year\n",
    "   * 7 from third year\n",
    "> We are interested in whether a difference exits somewhere between the three different year level?."
   ],
   "metadata": {
    "collapsed": false,
    "pycharm": {
     "name": "#%% md\n"
    }
   }
  },
  {
   "cell_type": "code",
   "execution_count": 7,
   "outputs": [],
   "source": [
    "import numpy as np\n",
    "import pandas as pd"
   ],
   "metadata": {
    "collapsed": false,
    "pycharm": {
     "name": "#%%\n"
    }
   }
  },
  {
   "cell_type": "code",
   "execution_count": 48,
   "outputs": [],
   "source": [
    "year_1 = np.array([82,93,61,74,69,70,53])\n",
    "year_2 = np.array([71,62,85,94,78,66,71])\n",
    "year_3 = np.array([64,73,87,91,56,78,87])"
   ],
   "metadata": {
    "collapsed": false,
    "pycharm": {
     "name": "#%%\n"
    }
   }
  },
  {
   "cell_type": "code",
   "execution_count": 49,
   "outputs": [],
   "source": [
    "year = pd.DataFrame([year_1,year_2,year_3]).T"
   ],
   "metadata": {
    "collapsed": false,
    "pycharm": {
     "name": "#%%\n"
    }
   }
  },
  {
   "cell_type": "code",
   "execution_count": 50,
   "outputs": [],
   "source": [
    "year.columns = [\"year_1\",\"year_2\",\"year_3\"]"
   ],
   "metadata": {
    "collapsed": false,
    "pycharm": {
     "name": "#%%\n"
    }
   }
  },
  {
   "cell_type": "code",
   "execution_count": 51,
   "outputs": [
    {
     "data": {
      "text/plain": "year_1    71.714286\nyear_2    75.285714\nyear_3    76.571429\ndtype: float64"
     },
     "execution_count": 51,
     "metadata": {},
     "output_type": "execute_result"
    }
   ],
   "source": [
    "individual_mean = year.mean()\n",
    "individual_mean"
   ],
   "metadata": {
    "collapsed": false,
    "pycharm": {
     "name": "#%%\n"
    }
   }
  },
  {
   "cell_type": "markdown",
   "source": [
    "A look at the mean tell us what ?\n",
    "\n",
    "* year_1 mean bit odd from the other mean\n",
    "* we don't know due the natural variation in total population.\n",
    "* or there exist the abnormality\n"
   ],
   "metadata": {
    "collapsed": false,
    "pycharm": {
     "name": "#%% md\n"
    }
   }
  },
  {
   "cell_type": "code",
   "execution_count": 52,
   "outputs": [
    {
     "data": {
      "text/plain": "   variable  value\n0    year_1     82\n1    year_1     93\n2    year_1     61\n3    year_1     74\n4    year_1     69\n5    year_1     70\n6    year_1     53\n7    year_2     71\n8    year_2     62\n9    year_2     85\n10   year_2     94\n11   year_2     78\n12   year_2     66\n13   year_2     71\n14   year_3     64\n15   year_3     73\n16   year_3     87\n17   year_3     91\n18   year_3     56\n19   year_3     78\n20   year_3     87",
      "text/html": "<div>\n<style scoped>\n    .dataframe tbody tr th:only-of-type {\n        vertical-align: middle;\n    }\n\n    .dataframe tbody tr th {\n        vertical-align: top;\n    }\n\n    .dataframe thead th {\n        text-align: right;\n    }\n</style>\n<table border=\"1\" class=\"dataframe\">\n  <thead>\n    <tr style=\"text-align: right;\">\n      <th></th>\n      <th>variable</th>\n      <th>value</th>\n    </tr>\n  </thead>\n  <tbody>\n    <tr>\n      <th>0</th>\n      <td>year_1</td>\n      <td>82</td>\n    </tr>\n    <tr>\n      <th>1</th>\n      <td>year_1</td>\n      <td>93</td>\n    </tr>\n    <tr>\n      <th>2</th>\n      <td>year_1</td>\n      <td>61</td>\n    </tr>\n    <tr>\n      <th>3</th>\n      <td>year_1</td>\n      <td>74</td>\n    </tr>\n    <tr>\n      <th>4</th>\n      <td>year_1</td>\n      <td>69</td>\n    </tr>\n    <tr>\n      <th>5</th>\n      <td>year_1</td>\n      <td>70</td>\n    </tr>\n    <tr>\n      <th>6</th>\n      <td>year_1</td>\n      <td>53</td>\n    </tr>\n    <tr>\n      <th>7</th>\n      <td>year_2</td>\n      <td>71</td>\n    </tr>\n    <tr>\n      <th>8</th>\n      <td>year_2</td>\n      <td>62</td>\n    </tr>\n    <tr>\n      <th>9</th>\n      <td>year_2</td>\n      <td>85</td>\n    </tr>\n    <tr>\n      <th>10</th>\n      <td>year_2</td>\n      <td>94</td>\n    </tr>\n    <tr>\n      <th>11</th>\n      <td>year_2</td>\n      <td>78</td>\n    </tr>\n    <tr>\n      <th>12</th>\n      <td>year_2</td>\n      <td>66</td>\n    </tr>\n    <tr>\n      <th>13</th>\n      <td>year_2</td>\n      <td>71</td>\n    </tr>\n    <tr>\n      <th>14</th>\n      <td>year_3</td>\n      <td>64</td>\n    </tr>\n    <tr>\n      <th>15</th>\n      <td>year_3</td>\n      <td>73</td>\n    </tr>\n    <tr>\n      <th>16</th>\n      <td>year_3</td>\n      <td>87</td>\n    </tr>\n    <tr>\n      <th>17</th>\n      <td>year_3</td>\n      <td>91</td>\n    </tr>\n    <tr>\n      <th>18</th>\n      <td>year_3</td>\n      <td>56</td>\n    </tr>\n    <tr>\n      <th>19</th>\n      <td>year_3</td>\n      <td>78</td>\n    </tr>\n    <tr>\n      <th>20</th>\n      <td>year_3</td>\n      <td>87</td>\n    </tr>\n  </tbody>\n</table>\n</div>"
     },
     "execution_count": 52,
     "metadata": {},
     "output_type": "execute_result"
    }
   ],
   "source": [
    "total = pd.melt(year)\n",
    "total"
   ],
   "metadata": {
    "collapsed": false,
    "pycharm": {
     "name": "#%%\n"
    }
   }
  },
  {
   "cell_type": "code",
   "execution_count": 53,
   "outputs": [
    {
     "data": {
      "text/plain": "74.52380952380952"
     },
     "execution_count": 53,
     "metadata": {},
     "output_type": "execute_result"
    }
   ],
   "source": [
    "total_mean = total.mean(numeric_only=True).value\n",
    "total_mean"
   ],
   "metadata": {
    "collapsed": false,
    "pycharm": {
     "name": "#%%\n"
    }
   }
  },
  {
   "cell_type": "markdown",
   "source": [
    "# Partitioning sum of square\n",
    "\n",
    "<img src=\"image/image (7).png\">"
   ],
   "metadata": {
    "collapsed": false,
    "pycharm": {
     "name": "#%% md\n"
    }
   }
  },
  {
   "cell_type": "markdown",
   "source": [
    "# Sum of square total\n",
    "\n",
    "<img src=\"image/image (8).png\">"
   ],
   "metadata": {
    "collapsed": false,
    "pycharm": {
     "name": "#%% md\n"
    }
   }
  },
  {
   "cell_type": "code",
   "execution_count": 54,
   "outputs": [
    {
     "data": {
      "text/plain": "2901.2380952380954"
     },
     "execution_count": 54,
     "metadata": {},
     "output_type": "execute_result"
    }
   ],
   "source": [
    "sum_square_total  = ((total[\"value\"] - total_mean)**2).sum()\n",
    "sum_square_total"
   ],
   "metadata": {
    "collapsed": false,
    "pycharm": {
     "name": "#%%\n"
    }
   }
  },
  {
   "cell_type": "markdown",
   "source": [
    "# Sum of Square Column / between\n",
    "\n",
    "\n",
    "<img src=\"image/image (9).png\">"
   ],
   "metadata": {
    "collapsed": false,
    "pycharm": {
     "name": "#%% md\n"
    }
   }
  },
  {
   "cell_type": "code",
   "execution_count": 64,
   "outputs": [
    {
     "data": {
      "text/plain": "year_1   -2.809524\nyear_2    0.761905\nyear_3    2.047619\ndtype: float64"
     },
     "execution_count": 64,
     "metadata": {},
     "output_type": "execute_result"
    }
   ],
   "source": [
    "individual_mean - total_mean"
   ],
   "metadata": {
    "collapsed": false,
    "pycharm": {
     "name": "#%%\n"
    }
   }
  },
  {
   "cell_type": "code",
   "execution_count": 55,
   "outputs": [
    {
     "data": {
      "text/plain": "12.666666666666703"
     },
     "execution_count": 55,
     "metadata": {},
     "output_type": "execute_result"
    }
   ],
   "source": [
    "sum_square_column = ((individual_mean - total_mean)**2).sum()\n",
    "sum_square_column"
   ],
   "metadata": {
    "collapsed": false,
    "pycharm": {
     "name": "#%%\n"
    }
   }
  },
  {
   "cell_type": "markdown",
   "source": [
    "# Sum of Error / within\n",
    "\n",
    "<img src=\"image/image (10).png\">"
   ],
   "metadata": {
    "collapsed": false,
    "pycharm": {
     "name": "#%% md\n"
    }
   }
  },
  {
   "cell_type": "code",
   "execution_count": 56,
   "outputs": [],
   "source": [
    "def sum_of_square(data):\n",
    "    mean = data.mean()\n",
    "    return ((data -mean)**2).sum()"
   ],
   "metadata": {
    "collapsed": false,
    "pycharm": {
     "name": "#%%\n"
    }
   }
  },
  {
   "cell_type": "code",
   "execution_count": 57,
   "outputs": [
    {
     "data": {
      "text/plain": "year_1    1039.428571\nyear_2     751.428571\nyear_3    1021.714286\ndtype: float64"
     },
     "execution_count": 57,
     "metadata": {},
     "output_type": "execute_result"
    }
   ],
   "source": [
    "individual_sum_square = year.apply(sum_of_square)\n",
    "individual_sum_square"
   ],
   "metadata": {
    "collapsed": false,
    "pycharm": {
     "name": "#%%\n"
    }
   }
  },
  {
   "cell_type": "code",
   "execution_count": 58,
   "outputs": [
    {
     "data": {
      "text/plain": "2812.571428571429"
     },
     "execution_count": 58,
     "metadata": {},
     "output_type": "execute_result"
    }
   ],
   "source": [
    "sum_square_error = individual_sum_square.sum()\n",
    "sum_square_error"
   ],
   "metadata": {
    "collapsed": false,
    "pycharm": {
     "name": "#%%\n"
    }
   }
  },
  {
   "cell_type": "code",
   "execution_count": 61,
   "outputs": [
    {
     "data": {
      "text/plain": "6.333333333333352"
     },
     "execution_count": 61,
     "metadata": {},
     "output_type": "execute_result"
    }
   ],
   "source": [
    "dof_column = len(year.columns)-1\n",
    "mean_square_column = sum_square_column/dof_column\n",
    "mean_square_column"
   ],
   "metadata": {
    "collapsed": false,
    "pycharm": {
     "name": "#%%\n"
    }
   }
  },
  {
   "cell_type": "code",
   "execution_count": 66,
   "outputs": [
    {
     "data": {
      "text/plain": "12.666666666666703"
     },
     "execution_count": 66,
     "metadata": {},
     "output_type": "execute_result"
    }
   ],
   "source": [
    "sum_square_column"
   ],
   "metadata": {
    "collapsed": false,
    "pycharm": {
     "name": "#%%\n"
    }
   }
  },
  {
   "cell_type": "code",
   "execution_count": 59,
   "outputs": [],
   "source": [
    "from scipy import stats"
   ],
   "metadata": {
    "collapsed": false,
    "pycharm": {
     "name": "#%%\n"
    }
   }
  },
  {
   "cell_type": "code",
   "execution_count": 60,
   "outputs": [
    {
     "data": {
      "text/plain": "F_onewayResult(statistic=0.2837261275904103, pvalue=0.7562784116739912)"
     },
     "execution_count": 60,
     "metadata": {},
     "output_type": "execute_result"
    }
   ],
   "source": [
    "stats.f_oneway(year_1,year_2,year_3)"
   ],
   "metadata": {
    "collapsed": false,
    "pycharm": {
     "name": "#%%\n"
    }
   }
  },
  {
   "cell_type": "code",
   "execution_count": null,
   "outputs": [],
   "source": [],
   "metadata": {
    "collapsed": false,
    "pycharm": {
     "name": "#%%\n"
    }
   }
  }
 ],
 "metadata": {
  "kernelspec": {
   "display_name": "Python 3",
   "language": "python",
   "name": "python3"
  },
  "language_info": {
   "codemirror_mode": {
    "name": "ipython",
    "version": 2
   },
   "file_extension": ".py",
   "mimetype": "text/x-python",
   "name": "python",
   "nbconvert_exporter": "python",
   "pygments_lexer": "ipython2",
   "version": "2.7.6"
  }
 },
 "nbformat": 4,
 "nbformat_minor": 0
}