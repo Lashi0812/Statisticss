{
 "cells": [
  {
   "cell_type": "code",
   "execution_count": 26,
   "id": "3880bbbf",
   "metadata": {
    "pycharm": {
     "name": "#%%\n"
    }
   },
   "outputs": [],
   "source": [
    "import warnings\n",
    "import numpy as np\n",
    "import pandas as pd\n",
    "import scipy.stats as st\n",
    "import statsmodels.api as sm\n",
    "from scipy.stats._continuous_distns import _distn_names\n",
    "import matplotlib\n",
    "import matplotlib.pyplot as plt\n",
    "\n",
    "import seaborn as sns"
   ]
  },
  {
   "cell_type": "code",
   "execution_count": 2,
   "id": "99c69084",
   "metadata": {
    "pycharm": {
     "name": "#%%\n"
    }
   },
   "outputs": [],
   "source": [
    "matplotlib.rcParams['figure.figsize'] = (16.0, 12.0)\n",
    "matplotlib.style.use('ggplot')"
   ]
  },
  {
   "cell_type": "markdown",
   "id": "2a7da1ff",
   "metadata": {
    "pycharm": {
     "name": "#%% md\n"
    }
   },
   "source": [
    "# Best fit distribution"
   ]
  },
  {
   "cell_type": "code",
   "execution_count": 3,
   "id": "55bda379",
   "metadata": {
    "pycharm": {
     "name": "#%%\n"
    }
   },
   "outputs": [],
   "source": [
    "# Create models from data\n",
    "def best_fit_distribution(data, bins=200, ax=None):\n",
    "    \"\"\"Model data by finding best fit distribution to data\"\"\"\n",
    "    # Get histogram of original data\n",
    "    y, x = np.histogram(data, bins=bins, density=True)\n",
    "    x = (x + np.roll(x, -1))[:-1] / 2.0\n",
    "\n",
    "    # Best holders\n",
    "    best_distributions = []\n",
    "    best_distibutions_dic = {}\n",
    "\n",
    "    # Estimate distribution parameters from data\n",
    "    for ii, distribution in enumerate([d for d in _distn_names if not d in ['levy_stable', 'studentized_range']]):\n",
    "\n",
    "        print(\"{:>3} / {:<3}: {}\".format( ii+1, len(_distn_names), distribution ))\n",
    "\n",
    "        distribution = getattr(st, distribution)\n",
    "\n",
    "        # Try to fit the distribution\n",
    "        try:\n",
    "            # Ignore warnings from data that can't be fit\n",
    "            with warnings.catch_warnings():\n",
    "                warnings.filterwarnings('ignore')\n",
    "                \n",
    "                # fit dist to data\n",
    "                params = distribution.fit(data)\n",
    "\n",
    "                # Separate parts of parameters\n",
    "                arg = params[:-2]\n",
    "                loc = params[-2]\n",
    "                scale = params[-1]\n",
    "                \n",
    "                # Calculate fitted PDF and error with fit in distribution\n",
    "                pdf = distribution.pdf(x, loc=loc, scale=scale, *arg)\n",
    "                sse = np.sum(np.power(y - pdf, 2.0))\n",
    "                \n",
    "                # if axis pass in add to plot\n",
    "                try:\n",
    "                    if ax:\n",
    "                        pd.Series(pdf, x).plot(ax=ax)\n",
    "\n",
    "                except Exception:\n",
    "                    pass\n",
    "\n",
    "                # identify if this distribution is better\n",
    "                best_distibutions_dic[_distn_names[ii]] = (distribution, params, sse)\n",
    "                best_distributions.append((distribution, params, sse))\n",
    "        \n",
    "        except Exception:\n",
    "            pass\n",
    "\n",
    "    \n",
    "    return sorted(best_distributions, key=lambda x:x[2])\n",
    "    #return best_distibutions_dic"
   ]
  },
  {
   "cell_type": "code",
   "execution_count": 4,
   "id": "125d398e",
   "metadata": {
    "pycharm": {
     "name": "#%%\n"
    }
   },
   "outputs": [],
   "source": [
    "def make_pdf(dist, params, size=10000):\n",
    "    \"\"\"Generate distributions's Probability Distribution Function \"\"\"\n",
    "\n",
    "    # Separate parts of parameters\n",
    "    arg = params[:-2]\n",
    "    loc = params[-2]\n",
    "    scale = params[-1]\n",
    "\n",
    "    # Get sane start and end points of distribution\n",
    "    start = dist.ppf(0.01, *arg, loc=loc, scale=scale) if arg else dist.ppf(0.01, loc=loc, scale=scale)\n",
    "    end = dist.ppf(0.99, *arg, loc=loc, scale=scale) if arg else dist.ppf(0.99, loc=loc, scale=scale)\n",
    "\n",
    "    # Build PDF and turn into pandas Series\n",
    "    x = np.linspace(start, end, size)\n",
    "    y = dist.pdf(x, loc=loc, scale=scale, *arg)\n",
    "    pdf = pd.Series(y, x)\n",
    "\n",
    "    return pdf"
   ]
  },
  {
   "cell_type": "code",
   "execution_count": 5,
   "id": "0a538dc5",
   "metadata": {
    "pycharm": {
     "name": "#%%\n"
    }
   },
   "outputs": [],
   "source": [
    "# Load data from statsmodels datasets\n",
    "data = pd.Series(sm.datasets.elnino.load_pandas().data.set_index('YEAR').values.ravel())"
   ]
  },
  {
   "cell_type": "code",
   "execution_count": 76,
   "id": "88135df6",
   "metadata": {
    "pycharm": {
     "name": "#%%\n"
    }
   },
   "outputs": [
    {
     "data": {
      "image/png": "[encoded data removed]",
      "text/plain": [
       "<Figure size 864x576 with 1 Axes>"
      ]
     },
     "metadata": {},
     "output_type": "display_data"
    }
   ],
   "source": [
    "# Plot for comparison\n",
    "plt.figure(figsize=(12,8))\n",
    "ax = data.plot(kind='hist', bins=50, density=True, alpha=0.5, color=list(matplotlib.rcParams['axes.prop_cycle'])[1]['color'])"
   ]
  },
  {
   "cell_type": "code",
   "execution_count": 7,
   "id": "9afbc1b2",
   "metadata": {
    "pycharm": {
     "name": "#%%\n"
    }
   },
   "outputs": [],
   "source": [
    "# Save plot limits\n",
    "dataYLim = ax.get_ylim()"
   ]
  },
  {
   "cell_type": "code",
   "execution_count": 8,
   "id": "e60d1288",
   "metadata": {
    "pycharm": {
     "name": "#%%\n"
    }
   },
   "outputs": [
    {
     "name": "stdout",
     "output_type": "stream",
     "text": [
      "  1 / 104: ksone\n",
      "  2 / 104: kstwo\n",
      "  3 / 104: kstwobign\n",
      "  4 / 104: norm\n",
      "  5 / 104: alpha\n",
      "  6 / 104: anglit\n",
      "  7 / 104: arcsine\n",
      "  8 / 104: beta\n",
      "  9 / 104: betaprime\n",
      " 10 / 104: bradford\n",
      " 11 / 104: burr\n",
      " 12 / 104: burr12\n",
      " 13 / 104: fisk\n",
      " 14 / 104: cauchy\n",
      " 15 / 104: chi\n",
      " 16 / 104: chi2\n",
      " 17 / 104: cosine\n",
      " 18 / 104: dgamma\n",
      " 19 / 104: dweibull\n",
      " 20 / 104: expon\n",
      " 21 / 104: exponnorm\n",
      " 22 / 104: exponweib\n",
      " 23 / 104: exponpow\n",
      " 24 / 104: fatiguelife\n",
      " 25 / 104: foldcauchy\n",
      " 26 / 104: f\n",
      " 27 / 104: foldnorm\n",
      " 28 / 104: weibull_min\n",
      " 29 / 104: weibull_max\n",
      " 30 / 104: genlogistic\n",
      " 31 / 104: genpareto\n",
      " 32 / 104: genexpon\n",
      " 33 / 104: genextreme\n",
      " 34 / 104: gamma\n",
      " 35 / 104: erlang\n",
      " 36 / 104: gengamma\n",
      " 37 / 104: genhalflogistic\n",
      " 38 / 104: genhyperbolic\n",
      " 39 / 104: gompertz\n",
      " 40 / 104: gumbel_r\n",
      " 41 / 104: gumbel_l\n",
      " 42 / 104: halfcauchy\n",
      " 43 / 104: halflogistic\n",
      " 44 / 104: halfnorm\n",
      " 45 / 104: hypsecant\n",
      " 46 / 104: gausshyper\n",
      " 47 / 104: invgamma\n",
      " 48 / 104: invgauss\n",
      " 49 / 104: geninvgauss\n",
      " 50 / 104: norminvgauss\n",
      " 51 / 104: invweibull\n",
      " 52 / 104: johnsonsb\n",
      " 53 / 104: johnsonsu\n",
      " 54 / 104: laplace\n",
      " 55 / 104: laplace_asymmetric\n",
      " 56 / 104: levy\n",
      " 57 / 104: levy_l\n",
      " 58 / 104: logistic\n",
      " 59 / 104: loggamma\n",
      " 60 / 104: loglaplace\n",
      " 61 / 104: lognorm\n",
      " 62 / 104: gilbrat\n",
      " 63 / 104: maxwell\n",
      " 64 / 104: mielke\n",
      " 65 / 104: kappa4\n",
      " 66 / 104: kappa3\n",
      " 67 / 104: moyal\n",
      " 68 / 104: nakagami\n",
      " 69 / 104: ncx2\n",
      " 70 / 104: ncf\n",
      " 71 / 104: t\n",
      " 72 / 104: nct\n",
      " 73 / 104: pareto\n",
      " 74 / 104: lomax\n",
      " 75 / 104: pearson3\n",
      " 76 / 104: powerlaw\n",
      " 77 / 104: powerlognorm\n",
      " 78 / 104: powernorm\n",
      " 79 / 104: rdist\n",
      " 80 / 104: rayleigh\n",
      " 81 / 104: loguniform\n",
      " 82 / 104: reciprocal\n",
      " 83 / 104: rice\n",
      " 84 / 104: recipinvgauss\n",
      " 85 / 104: semicircular\n",
      " 86 / 104: skewcauchy\n",
      " 87 / 104: skewnorm\n",
      " 88 / 104: trapezoid\n",
      " 89 / 104: trapz\n",
      " 90 / 104: triang\n",
      " 91 / 104: truncexpon\n",
      " 92 / 104: truncnorm\n",
      " 93 / 104: tukeylambda\n",
      " 94 / 104: uniform\n",
      " 95 / 104: vonmises\n",
      " 96 / 104: vonmises_line\n",
      " 97 / 104: wald\n",
      " 98 / 104: wrapcauchy\n",
      " 99 / 104: gennorm\n",
      "100 / 104: halfgennorm\n",
      "101 / 104: crystalball\n",
      "102 / 104: argus\n"
     ]
    }
   ],
   "source": [
    "# Find best fit distribution\n",
    "best_distibutions = best_fit_distribution(data, 200, ax)\n",
    "best_dist = best_distibutions[0]"
   ]
  },
  {
   "cell_type": "code",
   "execution_count": 9,
   "id": "5ac2cfde",
   "metadata": {
    "pycharm": {
     "name": "#%%\n"
    }
   },
   "outputs": [
    {
     "data": {
      "text/plain": [
       "Text(20.200000000000003, 0.5, 'Frequency')"
      ]
     },
     "execution_count": 9,
     "metadata": {},
     "output_type": "execute_result"
    }
   ],
   "source": [
    "# Update plots\n",
    "ax.set_ylim(dataYLim)\n",
    "ax.set_title(u'El Niño sea temp.\\n All Fitted Distributions')\n",
    "ax.set_xlabel(u'Temp (°C)')\n",
    "ax.set_ylabel('Frequency')"
   ]
  },
  {
   "cell_type": "code",
   "execution_count": 10,
   "id": "f8e0f51c",
   "metadata": {
    "pycharm": {
     "name": "#%%\n"
    }
   },
   "outputs": [],
   "source": [
    "# Make PDF with best params \n",
    "pdf = make_pdf(best_dist[0], best_dist[1])"
   ]
  },
  {
   "cell_type": "code",
   "execution_count": 11,
   "id": "3b6aef27",
   "metadata": {
    "pycharm": {
     "name": "#%%\n"
    }
   },
   "outputs": [
    {
     "data": {
      "text/plain": [
       "Text(0, 0.5, 'Frequency')"
      ]
     },
     "execution_count": 11,
     "metadata": {},
     "output_type": "execute_result"
    },
    {
     "data": {
      "image/png": "[encoded data removed]",
      "text/plain": [
       "<Figure size 864x576 with 1 Axes>"
      ]
     },
     "metadata": {},
     "output_type": "display_data"
    }
   ],
   "source": [
    "# Display\n",
    "plt.figure(figsize=(12,8))\n",
    "ax = pdf.plot(lw=2, label='PDF', legend=True)\n",
    "data.plot(kind='hist', bins=50, density=True, alpha=0.5, label='Data', legend=True, ax=ax)\n",
    "\n",
    "param_names = (best_dist[0].shapes + ', loc, scale').split(', ') if best_dist[0].shapes else ['loc', 'scale']\n",
    "param_str = ', '.join(['{}={:0.2f}'.format(k,v) for k,v in zip(param_names, best_dist[1])])\n",
    "dist_str = '{}({})'.format(best_dist[0].name, param_str)\n",
    "\n",
    "ax.set_title(u'El Niño sea temp. with best fit distribution \\n' + dist_str)\n",
    "ax.set_xlabel(u'Temp. (°C)')\n",
    "ax.set_ylabel('Frequency')"
   ]
  },
  {
   "cell_type": "code",
   "execution_count": 12,
   "id": "65fd5686",
   "metadata": {
    "pycharm": {
     "name": "#%%\n"
    }
   },
   "outputs": [],
   "source": [
    "y, x = np.histogram(data, bins=200, density=True)"
   ]
  },
  {
   "cell_type": "code",
   "execution_count": 13,
   "id": "dd23a860",
   "metadata": {
    "pycharm": {
     "name": "#%%\n"
    }
   },
   "outputs": [],
   "source": [
    "x = (x + np.roll(x, -1))[:-1] / 2.0"
   ]
  },
  {
   "cell_type": "code",
   "execution_count": 14,
   "id": "4a656d8d",
   "metadata": {
    "pycharm": {
     "name": "#%%\n"
    }
   },
   "outputs": [
    {
     "data": {
      "text/plain": [
       "<scipy.stats._continuous_distns.johnsonsb_gen at 0x1d6c28a3160>"
      ]
     },
     "execution_count": 14,
     "metadata": {},
     "output_type": "execute_result"
    }
   ],
   "source": [
    "johnson_dist = getattr(st,\"johnsonsb\")\n",
    "johnson_dist"
   ]
  },
  {
   "cell_type": "code",
   "execution_count": 15,
   "id": "ea9b1e29",
   "metadata": {
    "pycharm": {
     "name": "#%%\n"
    }
   },
   "outputs": [
    {
     "data": {
      "text/plain": [
       "(0.48180802182650617,\n",
       " 0.9835826571292925,\n",
       " 18.689276660398363,\n",
       " 10.958573456318526)"
      ]
     },
     "execution_count": 15,
     "metadata": {},
     "output_type": "execute_result"
    }
   ],
   "source": [
    "# define the distribution \n",
    "params = johnson_dist.fit(data)\n",
    "params"
   ]
  },
  {
   "cell_type": "code",
   "execution_count": 16,
   "id": "d0e155b4",
   "metadata": {
    "pycharm": {
     "name": "#%%\n"
    }
   },
   "outputs": [],
   "source": [
    "# finding the arguments\n",
    "args = params[:-2]\n",
    "loc = params[-2]\n",
    "scale = params[-1]"
   ]
  },
  {
   "cell_type": "code",
   "execution_count": 17,
   "id": "4c7cd8ba",
   "metadata": {
    "scrolled": true,
    "pycharm": {
     "name": "#%%\n"
    }
   },
   "outputs": [
    {
     "data": {
      "text/plain": [
       "array([0.01238052, 0.0173968 , 0.02283954, 0.02856121, 0.03444393,\n",
       "       0.04039509, 0.04634274, 0.05223156, 0.05801948, 0.06367496,\n",
       "       0.06917473, 0.0745021 , 0.07964552, 0.0845975 , 0.08935375,\n",
       "       0.09391246, 0.09827373, 0.1024392 , 0.10641164, 0.11019469,\n",
       "       0.11379263, 0.11721024, 0.12045259, 0.12352501, 0.12643292,\n",
       "       0.12918183, 0.13177722, 0.13422455, 0.13652921, 0.13869648,\n",
       "       0.1407315 , 0.14263931, 0.1444248 , 0.14609267, 0.14764751,\n",
       "       0.14909374, 0.15043559, 0.15167718, 0.15282245, 0.15387517,\n",
       "       0.154839  , 0.15571741, 0.15651378, 0.1572313 , 0.15787305,\n",
       "       0.15844201, 0.15894098, 0.15937269, 0.15973973, 0.16004459,\n",
       "       0.16028965, 0.1604772 , 0.16060941, 0.16068839, 0.16071613,\n",
       "       0.16069456, 0.16062551, 0.16051075, 0.16035196, 0.16015076,\n",
       "       0.1599087 , 0.15962725, 0.15930784, 0.15895183, 0.15856052,\n",
       "       0.15813517, 0.15767697, 0.15718708, 0.15666658, 0.15611655,\n",
       "       0.15553798, 0.15493186, 0.1542991 , 0.15364062, 0.15295725,\n",
       "       0.15224982, 0.15151912, 0.15076591, 0.14999091, 0.14919481,\n",
       "       0.14837829, 0.14754199, 0.14668651, 0.14581246, 0.1449204 ,\n",
       "       0.14401086, 0.14308438, 0.14214146, 0.14118258, 0.1402082 ,\n",
       "       0.13921876, 0.13821469, 0.1371964 , 0.13616429, 0.13511873,\n",
       "       0.13406009, 0.13298871, 0.13190494, 0.13080909, 0.12970147,\n",
       "       0.12858239, 0.12745212, 0.12631095, 0.12515914, 0.12399695,\n",
       "       0.12282461, 0.12164238, 0.12045047, 0.11924911, 0.11803851,\n",
       "       0.11681888, 0.1155904 , 0.11435328, 0.11310769, 0.11185382,\n",
       "       0.11059184, 0.10932192, 0.10804422, 0.10675889, 0.1054661 ,\n",
       "       0.10416599, 0.10285871, 0.1015444 , 0.10022321, 0.09889527,\n",
       "       0.09756072, 0.09621969, 0.09487232, 0.09351873, 0.09215907,\n",
       "       0.09079345, 0.08942202, 0.08804489, 0.08666221, 0.08527411,\n",
       "       0.08388072, 0.08248218, 0.08107862, 0.07967021, 0.07825707,\n",
       "       0.07683936, 0.07541724, 0.07399087, 0.07256041, 0.07112604,\n",
       "       0.06968794, 0.0682463 , 0.06680132, 0.0653532 , 0.06390217,\n",
       "       0.06244845, 0.06099229, 0.05953395, 0.05807368, 0.05661179,\n",
       "       0.05514857, 0.05368435, 0.05221946, 0.05075428, 0.04928919,\n",
       "       0.04782459, 0.04636094, 0.0448987 , 0.04343837, 0.04198048,\n",
       "       0.04052559, 0.03907433, 0.03762733, 0.03618529, 0.03474896,\n",
       "       0.03331912, 0.03189664, 0.03048241, 0.02907743, 0.02768272,\n",
       "       0.02629941, 0.0249287 , 0.02357188, 0.02223032, 0.02090549,\n",
       "       0.01959899, 0.0183125 , 0.01704784, 0.01580696, 0.01459193,\n",
       "       0.01340498, 0.01224849, 0.01112498, 0.01003716, 0.0089879 ,\n",
       "       0.00798023, 0.00701736, 0.00610265, 0.0052396 , 0.00443186,\n",
       "       0.00368311, 0.00299706, 0.00237735, 0.00182735, 0.00135005])"
      ]
     },
     "execution_count": 17,
     "metadata": {},
     "output_type": "execute_result"
    }
   ],
   "source": [
    "# calculating the pdf for the X random variable\n",
    "probablity  = johnson_dist.pdf(x,*args,loc = loc,scale =scale)\n",
    "probablity"
   ]
  },
  {
   "cell_type": "code",
   "execution_count": 92,
   "id": "124eb96e",
   "metadata": {
    "pycharm": {
     "name": "#%%\n"
    }
   },
   "outputs": [
    {
     "name": "stdout",
     "output_type": "stream",
     "text": [
      "0.8222070209376747\n"
     ]
    },
    {
     "data": {
      "text/plain": [
       "[<matplotlib.lines.Line2D at 0x1d7106907f0>]"
      ]
     },
     "execution_count": 92,
     "metadata": {},
     "output_type": "execute_result"
    },
    {
     "data": {
      "image/png": "[encoded data removed]",
      "text/plain": [
       "<Figure size 1152x864 with 1 Axes>"
      ]
     },
     "metadata": {},
     "output_type": "display_data"
    }
   ],
   "source": [
    "plt.hist(data,bins=cal_bins_freedman_rule(data),density=True)\n",
    "plt.plot(x,probablity)"
   ]
  },
  {
   "cell_type": "code",
   "execution_count": 94,
   "id": "890f95e9",
   "metadata": {
    "pycharm": {
     "name": "#%%\n"
    }
   },
   "outputs": [
    {
     "data": {
      "text/plain": [
       "0      23.11\n",
       "1      24.20\n",
       "2      25.37\n",
       "3      23.86\n",
       "4      23.03\n",
       "       ...  \n",
       "727    19.49\n",
       "728    19.28\n",
       "729    19.73\n",
       "730    20.44\n",
       "731    22.07\n",
       "Length: 732, dtype: float64"
      ]
     },
     "execution_count": 94,
     "metadata": {},
     "output_type": "execute_result"
    }
   ],
   "source": [
    "data"
   ]
  },
  {
   "cell_type": "code",
   "execution_count": 93,
   "id": "121fa7ad",
   "metadata": {
    "pycharm": {
     "name": "#%%\n"
    }
   },
   "outputs": [
    {
     "name": "stdout",
     "output_type": "stream",
     "text": [
      "0.8222070209376747\n"
     ]
    },
    {
     "data": {
      "text/plain": [
       "13"
      ]
     },
     "execution_count": 93,
     "metadata": {},
     "output_type": "execute_result"
    }
   ],
   "source": [
    "cal_bins_freedman_rule(data)"
   ]
  },
  {
   "cell_type": "code",
   "execution_count": 19,
   "id": "9bf7701e",
   "metadata": {
    "pycharm": {
     "name": "#%%\n"
    }
   },
   "outputs": [
    {
     "data": {
      "text/plain": [
       "0.5357835973697368"
      ]
     },
     "execution_count": 19,
     "metadata": {},
     "output_type": "execute_result"
    }
   ],
   "source": [
    "# to find the best distribution\n",
    "# Calculate the sse\n",
    "sse = ((y-probablity)**2).sum()\n",
    "sse"
   ]
  },
  {
   "cell_type": "markdown",
   "id": "9e512586",
   "metadata": {
    "heading_collapsed": true,
    "pycharm": {
     "name": "#%% md\n"
    }
   },
   "source": [
    "# To Choose the right bin size"
   ]
  },
  {
   "cell_type": "code",
   "execution_count": 77,
   "id": "bdb3032a",
   "metadata": {
    "hidden": true,
    "pycharm": {
     "name": "#%%\n"
    }
   },
   "outputs": [
    {
     "data": {
      "text/plain": [
       "array([  5.,  24.,  43.,  62.,  81., 100.])"
      ]
     },
     "execution_count": 77,
     "metadata": {},
     "output_type": "execute_result"
    }
   ],
   "source": [
    "binsize = np.linspace(5,100,6)\n",
    "binsize"
   ]
  },
  {
   "cell_type": "code",
   "execution_count": 78,
   "id": "2f961543",
   "metadata": {
    "hidden": true,
    "pycharm": {
     "name": "#%%\n"
    }
   },
   "outputs": [
    {
     "data": {
      "image/png": "[encoded data removed]",
      "text/plain": [
       "<Figure size 1080x720 with 6 Axes>"
      ]
     },
     "metadata": {},
     "output_type": "display_data"
    }
   ],
   "source": [
    "np.random.seed(11)\n",
    "norm_dist = np.random.normal(size= 1000)\n",
    "\n",
    "fig,axes  =plt.subplots(2,3,figsize = (15,10))\n",
    "for ax,bins in zip(axes.flatten(),binsize):\n",
    "    #print(ax,int(bins))\n",
    "    sns.histplot(x=norm_dist,bins=int(bins),ax=ax)\n",
    "    ax.set_title(f\"bins = {bins}\")"
   ]
  },
  {
   "cell_type": "markdown",
   "id": "4b738a57",
   "metadata": {
    "hidden": true,
    "pycharm": {
     "name": "#%% md\n"
    }
   },
   "source": [
    "You can see that different bin size show differently the same sample.\n",
    "\n",
    "So ,Choosing the right bins size of a histogram is nesscary to visulaise the actual distribution"
   ]
  },
  {
   "cell_type": "markdown",
   "id": "f74e4ec5",
   "metadata": {
    "hidden": true,
    "pycharm": {
     "name": "#%% md\n"
    }
   },
   "source": [
    "## Sturge's rule\n",
    "\n",
    "Sturges rule takes into <span class=\"mark\">account the size of the data</span> to decide on the number of bins\n",
    "\n",
    "$$bins = 1 + ceil(\\log_2 (n))$$\n",
    "\n",
    "n - size of the sample"
   ]
  },
  {
   "cell_type": "code",
   "execution_count": 79,
   "id": "b81c6bba",
   "metadata": {
    "hidden": true,
    "pycharm": {
     "name": "#%%\n"
    }
   },
   "outputs": [
    {
     "data": {
      "text/plain": [
       "11"
      ]
     },
     "execution_count": 79,
     "metadata": {},
     "output_type": "execute_result"
    }
   ],
   "source": [
    "bins = int(1 +np.ceil(np.log2(len(norm_dist))))\n",
    "bins"
   ]
  },
  {
   "cell_type": "code",
   "execution_count": 80,
   "id": "cf8b02f9",
   "metadata": {
    "hidden": true,
    "pycharm": {
     "name": "#%%\n"
    }
   },
   "outputs": [
    {
     "data": {
      "image/png": "[encoded data removed]",
      "text/plain": [
       "<Figure size 1152x864 with 1 Axes>"
      ]
     },
     "metadata": {},
     "output_type": "display_data"
    }
   ],
   "source": [
    "sns.histplot(norm_dist,bins=bins)\n",
    "plt.title(f\"bins = {bins}\")\n",
    "plt.show()"
   ]
  },
  {
   "cell_type": "markdown",
   "id": "c6e48f19",
   "metadata": {
    "hidden": true,
    "pycharm": {
     "name": "#%% md\n"
    }
   },
   "source": [
    "## Freedman-Diaconis Rule\n",
    "\n",
    "it not only consider the sample size but also account the spread of the data\n",
    "\n",
    "$$bin width = \\frac{2(q3 -q1)}{\\sqrt[3]{n}}$$\n",
    "\n",
    "$$bins = ceil(\\frac{max(x) - min(x)}{binswidth})$$"
   ]
  },
  {
   "cell_type": "code",
   "execution_count": 81,
   "id": "76ee5aea",
   "metadata": {
    "hidden": true,
    "pycharm": {
     "name": "#%%\n"
    }
   },
   "outputs": [
    {
     "data": {
      "text/plain": [
       "-0.6765083687479201"
      ]
     },
     "execution_count": 81,
     "metadata": {},
     "output_type": "execute_result"
    }
   ],
   "source": [
    "q1 = np.quantile(norm_dist,0.25)\n",
    "q1"
   ]
  },
  {
   "cell_type": "code",
   "execution_count": 82,
   "id": "a1478b37",
   "metadata": {
    "hidden": true,
    "pycharm": {
     "name": "#%%\n"
    }
   },
   "outputs": [
    {
     "data": {
      "text/plain": [
       "0.6654369656799368"
      ]
     },
     "execution_count": 82,
     "metadata": {},
     "output_type": "execute_result"
    }
   ],
   "source": [
    "q3 = np.quantile(norm_dist,0.75)\n",
    "q3"
   ]
  },
  {
   "cell_type": "code",
   "execution_count": 83,
   "id": "7a3cb0a8",
   "metadata": {
    "hidden": true,
    "pycharm": {
     "name": "#%%\n"
    }
   },
   "outputs": [
    {
     "data": {
      "text/plain": [
       "1.341945334427857"
      ]
     },
     "execution_count": 83,
     "metadata": {},
     "output_type": "execute_result"
    }
   ],
   "source": [
    "(q3 - q1)"
   ]
  },
  {
   "cell_type": "code",
   "execution_count": 84,
   "id": "364769c7",
   "metadata": {
    "hidden": true,
    "pycharm": {
     "name": "#%%\n"
    }
   },
   "outputs": [
    {
     "data": {
      "text/plain": [
       "1.3436651788519571"
      ]
     },
     "execution_count": 84,
     "metadata": {},
     "output_type": "execute_result"
    }
   ],
   "source": [
    "st.iqr(norm_dist,interpolation=\"midpoint\")"
   ]
  },
  {
   "cell_type": "code",
   "execution_count": 86,
   "id": "a26916da",
   "metadata": {
    "hidden": true,
    "pycharm": {
     "name": "#%%\n"
    }
   },
   "outputs": [
    {
     "data": {
      "text/plain": [
       "0.2683890668855714"
      ]
     },
     "execution_count": 86,
     "metadata": {},
     "output_type": "execute_result"
    }
   ],
   "source": [
    "binswidth = (2 *(q3 - q1)) / (len(norm_dist)**(1/3))\n",
    "binswidth"
   ]
  },
  {
   "cell_type": "code",
   "execution_count": 87,
   "id": "a951bf7e",
   "metadata": {
    "hidden": true,
    "pycharm": {
     "name": "#%%\n"
    }
   },
   "outputs": [
    {
     "data": {
      "text/plain": [
       "26.0"
      ]
     },
     "execution_count": 87,
     "metadata": {},
     "output_type": "execute_result"
    }
   ],
   "source": [
    "bins = np.ceil((norm_dist.max() - norm_dist.min()) / binswidth)\n",
    "bins"
   ]
  },
  {
   "cell_type": "code",
   "execution_count": 88,
   "id": "3313fb24",
   "metadata": {
    "hidden": true,
    "pycharm": {
     "name": "#%%\n"
    }
   },
   "outputs": [
    {
     "data": {
      "image/png": "[encoded data removed]",
      "text/plain": [
       "<Figure size 1152x864 with 1 Axes>"
      ]
     },
     "metadata": {},
     "output_type": "display_data"
    }
   ],
   "source": [
    "sns.histplot(norm_dist,bins=int(bins))\n",
    "plt.title(f\"bins = {bins}\")\n",
    "plt.show()"
   ]
  },
  {
   "cell_type": "code",
   "execution_count": 89,
   "id": "f4dea792",
   "metadata": {
    "hidden": true,
    "pycharm": {
     "name": "#%%\n"
    }
   },
   "outputs": [],
   "source": [
    "def cal_bins_freedman_rule(data):\n",
    "    iqr = st.iqr(data,interpolation=\"midpoint\")\n",
    "    binswidth = (2 * iqr) / (len(data)**(1/3))\n",
    "    print(binswidth)\n",
    "    return int(np.ceil((data.max() - data.min())/binswidth))"
   ]
  },
  {
   "cell_type": "code",
   "execution_count": 90,
   "id": "64941d54",
   "metadata": {
    "hidden": true,
    "pycharm": {
     "name": "#%%\n"
    }
   },
   "outputs": [
    {
     "name": "stdout",
     "output_type": "stream",
     "text": [
      "0.2687330357703915\n"
     ]
    },
    {
     "data": {
      "text/plain": [
       "26"
      ]
     },
     "execution_count": 90,
     "metadata": {},
     "output_type": "execute_result"
    }
   ],
   "source": [
    "cal_bins_freedman_rule(norm_dist)"
   ]
  }
 ],
 "metadata": {
  "kernelspec": {
   "display_name": "Python 3 (ipykernel)",
   "language": "python",
   "name": "python3"
  },
  "language_info": {
   "codemirror_mode": {
    "name": "ipython",
    "version": 3
   },
   "file_extension": ".py",
   "mimetype": "text/x-python",
   "name": "python",
   "nbconvert_exporter": "python",
   "pygments_lexer": "ipython3",
   "version": "3.9.12"
  },
  "toc": {
   "base_numbering": 1,
   "nav_menu": {},
   "number_sections": true,
   "sideBar": true,
   "skip_h1_title": false,
   "title_cell": "Table of Contents",
   "title_sidebar": "Contents",
   "toc_cell": false,
   "toc_position": {},
   "toc_section_display": true,
   "toc_window_display": false
  },
  "varInspector": {
   "cols": {
    "lenName": 16,
    "lenType": 16,
    "lenVar": 40
   },
   "kernels_config": {
    "python": {
     "delete_cmd_postfix": "",
     "delete_cmd_prefix": "del ",
     "library": "var_list.py",
     "varRefreshCmd": "print(var_dic_list())"
    },
    "r": {
     "delete_cmd_postfix": ") ",
     "delete_cmd_prefix": "rm(",
     "library": "var_list.r",
     "varRefreshCmd": "cat(var_dic_list()) "
    }
   },
   "types_to_exclude": [
    "module",
    "function",
    "builtin_function_or_method",
    "instance",
    "_Feature"
   ],
   "window_display": false
  }
 },
 "nbformat": 4,
 "nbformat_minor": 5
}