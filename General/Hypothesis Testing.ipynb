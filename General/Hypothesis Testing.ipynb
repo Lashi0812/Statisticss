{
 "cells": [
  {
   "cell_type": "markdown",
   "id": "f24b1555",
   "metadata": {},
   "source": [
    "Set of value is taken form the population . If we dervive the mean of the sample  .. This will be the random variable ,\n",
    "\n",
    "This smaple mean is random varibale with its own pdf,mean,other momemt"
   ]
  },
  {
   "cell_type": "code",
   "execution_count": 9,
   "id": "438cda5e",
   "metadata": {},
   "outputs": [],
   "source": [
    "from scipy import stats\n",
    "import seaborn as sns"
   ]
  },
  {
   "cell_type": "code",
   "execution_count": 5,
   "id": "240a3e30",
   "metadata": {},
   "outputs": [
    {
     "data": {
      "text/plain": [
       "0.05993846388212264"
      ]
     },
     "execution_count": 5,
     "metadata": {},
     "output_type": "execute_result"
    }
   ],
   "source": [
    "#This is for conducting the one expertiment \n",
    "xvec = stats.norm.rvs(size = 100)\n",
    "xbar  = xvec.mean()\n",
    "xbar"
   ]
  },
  {
   "cell_type": "code",
   "execution_count": 6,
   "id": "b511139d",
   "metadata": {},
   "outputs": [
    {
     "data": {
      "text/plain": [
       "-0.003803811151146607"
      ]
     },
     "execution_count": 6,
     "metadata": {},
     "output_type": "execute_result"
    }
   ],
   "source": [
    "#This is for conducting the anthoer  expertiment \n",
    "xvec = stats.norm.rvs(size = 100)\n",
    "xbar  = xvec.mean()\n",
    "xbar"
   ]
  },
  {
   "cell_type": "code",
   "execution_count": 8,
   "id": "b7cfcb6a",
   "metadata": {},
   "outputs": [
    {
     "data": {
      "text/plain": [
       "0.0004461053122491262"
      ]
     },
     "execution_count": 8,
     "metadata": {},
     "output_type": "execute_result"
    }
   ],
   "source": [
    "sns.histplot()"
   ]
  },
  {
   "cell_type": "code",
   "execution_count": null,
   "id": "41ad9a52",
   "metadata": {},
   "outputs": [],
   "source": []
  }
 ],
 "metadata": {
  "kernelspec": {
   "display_name": "Python 3 (ipykernel)",
   "language": "python",
   "name": "python3"
  },
  "language_info": {
   "codemirror_mode": {
    "name": "ipython",
    "version": 3
   },
   "file_extension": ".py",
   "mimetype": "text/x-python",
   "name": "python",
   "nbconvert_exporter": "python",
   "pygments_lexer": "ipython3",
   "version": "3.9.12"
  }
 },
 "nbformat": 4,
 "nbformat_minor": 5
}
