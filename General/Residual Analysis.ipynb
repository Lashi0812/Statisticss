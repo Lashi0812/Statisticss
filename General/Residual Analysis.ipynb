{
 "cells": [
  {
   "cell_type": "code",
   "execution_count": 1,
   "id": "a57d9440",
   "metadata": {},
   "outputs": [],
   "source": [
    "import pandas as pd\n",
    "import numpy as np\n",
    "\n",
    "import statsmodels.api as sm\n",
    "import scipy.stats as stat\n",
    "\n",
    "import matplotlib.pyplot as plt\n",
    "\n"
   ]
  },
  {
   "cell_type": "code",
   "execution_count": 2,
   "id": "1d669011",
   "metadata": {},
   "outputs": [
    {
     "data": {
      "text/html": [
       "<div>\n",
       "<style scoped>\n",
       "    .dataframe tbody tr th:only-of-type {\n",
       "        vertical-align: middle;\n",
       "    }\n",
       "\n",
       "    .dataframe tbody tr th {\n",
       "        vertical-align: top;\n",
       "    }\n",
       "\n",
       "    .dataframe thead th {\n",
       "        text-align: right;\n",
       "    }\n",
       "</style>\n",
       "<table border=\"1\" class=\"dataframe\">\n",
       "  <thead>\n",
       "    <tr style=\"text-align: right;\">\n",
       "      <th></th>\n",
       "      <th>y</th>\n",
       "      <th>x1</th>\n",
       "      <th>x2</th>\n",
       "    </tr>\n",
       "  </thead>\n",
       "  <tbody>\n",
       "    <tr>\n",
       "      <th>0</th>\n",
       "      <td>16.68</td>\n",
       "      <td>7</td>\n",
       "      <td>560</td>\n",
       "    </tr>\n",
       "    <tr>\n",
       "      <th>1</th>\n",
       "      <td>11.50</td>\n",
       "      <td>3</td>\n",
       "      <td>220</td>\n",
       "    </tr>\n",
       "    <tr>\n",
       "      <th>2</th>\n",
       "      <td>12.03</td>\n",
       "      <td>3</td>\n",
       "      <td>340</td>\n",
       "    </tr>\n",
       "    <tr>\n",
       "      <th>3</th>\n",
       "      <td>14.88</td>\n",
       "      <td>4</td>\n",
       "      <td>80</td>\n",
       "    </tr>\n",
       "    <tr>\n",
       "      <th>4</th>\n",
       "      <td>13.75</td>\n",
       "      <td>6</td>\n",
       "      <td>150</td>\n",
       "    </tr>\n",
       "  </tbody>\n",
       "</table>\n",
       "</div>"
      ],
      "text/plain": [
       "       y  x1   x2\n",
       "0  16.68   7  560\n",
       "1  11.50   3  220\n",
       "2  12.03   3  340\n",
       "3  14.88   4   80\n",
       "4  13.75   6  150"
      ]
     },
     "execution_count": 2,
     "metadata": {},
     "output_type": "execute_result"
    }
   ],
   "source": [
    "soft_drink = pd.read_excel(\"data/soft_drink.xlsx\",\n",
    "                          header=None,\n",
    "                          names=[\"y\",\"x1\",\"x2\"])\n",
    "soft_drink.head()"
   ]
  },
  {
   "cell_type": "markdown",
   "id": "f2986663",
   "metadata": {},
   "source": [
    "# Method of scaling residual"
   ]
  },
  {
   "cell_type": "code",
   "execution_count": 68,
   "id": "c705ecbe",
   "metadata": {
    "scrolled": true
   },
   "outputs": [
    {
     "data": {
      "text/html": [
       "<div>\n",
       "<style scoped>\n",
       "    .dataframe tbody tr th:only-of-type {\n",
       "        vertical-align: middle;\n",
       "    }\n",
       "\n",
       "    .dataframe tbody tr th {\n",
       "        vertical-align: top;\n",
       "    }\n",
       "\n",
       "    .dataframe thead th {\n",
       "        text-align: right;\n",
       "    }\n",
       "</style>\n",
       "<table border=\"1\" class=\"dataframe\">\n",
       "  <thead>\n",
       "    <tr style=\"text-align: right;\">\n",
       "      <th></th>\n",
       "      <th>x1</th>\n",
       "      <th>x2</th>\n",
       "    </tr>\n",
       "  </thead>\n",
       "  <tbody>\n",
       "    <tr>\n",
       "      <th>0</th>\n",
       "      <td>7</td>\n",
       "      <td>560</td>\n",
       "    </tr>\n",
       "    <tr>\n",
       "      <th>1</th>\n",
       "      <td>3</td>\n",
       "      <td>220</td>\n",
       "    </tr>\n",
       "    <tr>\n",
       "      <th>2</th>\n",
       "      <td>3</td>\n",
       "      <td>340</td>\n",
       "    </tr>\n",
       "    <tr>\n",
       "      <th>3</th>\n",
       "      <td>4</td>\n",
       "      <td>80</td>\n",
       "    </tr>\n",
       "    <tr>\n",
       "      <th>4</th>\n",
       "      <td>6</td>\n",
       "      <td>150</td>\n",
       "    </tr>\n",
       "  </tbody>\n",
       "</table>\n",
       "</div>"
      ],
      "text/plain": [
       "   x1   x2\n",
       "0   7  560\n",
       "1   3  220\n",
       "2   3  340\n",
       "3   4   80\n",
       "4   6  150"
      ]
     },
     "execution_count": 68,
     "metadata": {},
     "output_type": "execute_result"
    }
   ],
   "source": [
    "X_soft_drink = soft_drink[[\"x1\",\"x2\"]]\n",
    "X_soft_drink.head()"
   ]
  },
  {
   "cell_type": "code",
   "execution_count": 70,
   "id": "881b9ed6",
   "metadata": {},
   "outputs": [
    {
     "data": {
      "text/plain": [
       "array([1, 1, 1, 1, 1, 1, 1, 1, 1, 1, 1, 1, 1, 1, 1, 1, 1, 1, 1, 1, 1, 1,\n",
       "       1, 1, 1], dtype=int64)"
      ]
     },
     "execution_count": 70,
     "metadata": {},
     "output_type": "execute_result"
    }
   ],
   "source": [
    "np.ones_like(X_soft_drink.x1)"
   ]
  },
  {
   "cell_type": "code",
   "execution_count": 97,
   "id": "5bd1598e",
   "metadata": {},
   "outputs": [
    {
     "data": {
      "text/html": [
       "<div>\n",
       "<style scoped>\n",
       "    .dataframe tbody tr th:only-of-type {\n",
       "        vertical-align: middle;\n",
       "    }\n",
       "\n",
       "    .dataframe tbody tr th {\n",
       "        vertical-align: top;\n",
       "    }\n",
       "\n",
       "    .dataframe thead th {\n",
       "        text-align: right;\n",
       "    }\n",
       "</style>\n",
       "<table border=\"1\" class=\"dataframe\">\n",
       "  <thead>\n",
       "    <tr style=\"text-align: right;\">\n",
       "      <th></th>\n",
       "      <th>intercpt</th>\n",
       "      <th>x1</th>\n",
       "      <th>x2</th>\n",
       "    </tr>\n",
       "  </thead>\n",
       "  <tbody>\n",
       "    <tr>\n",
       "      <th>0</th>\n",
       "      <td>1</td>\n",
       "      <td>7</td>\n",
       "      <td>560</td>\n",
       "    </tr>\n",
       "    <tr>\n",
       "      <th>1</th>\n",
       "      <td>1</td>\n",
       "      <td>3</td>\n",
       "      <td>220</td>\n",
       "    </tr>\n",
       "    <tr>\n",
       "      <th>2</th>\n",
       "      <td>1</td>\n",
       "      <td>3</td>\n",
       "      <td>340</td>\n",
       "    </tr>\n",
       "    <tr>\n",
       "      <th>3</th>\n",
       "      <td>1</td>\n",
       "      <td>4</td>\n",
       "      <td>80</td>\n",
       "    </tr>\n",
       "    <tr>\n",
       "      <th>4</th>\n",
       "      <td>1</td>\n",
       "      <td>6</td>\n",
       "      <td>150</td>\n",
       "    </tr>\n",
       "  </tbody>\n",
       "</table>\n",
       "</div>"
      ],
      "text/plain": [
       "   intercpt  x1   x2\n",
       "0         1   7  560\n",
       "1         1   3  220\n",
       "2         1   3  340\n",
       "3         1   4   80\n",
       "4         1   6  150"
      ]
     },
     "execution_count": 97,
     "metadata": {},
     "output_type": "execute_result"
    }
   ],
   "source": [
    "X_soft_drink.head()"
   ]
  },
  {
   "cell_type": "code",
   "execution_count": 21,
   "id": "51c205bb",
   "metadata": {},
   "outputs": [
    {
     "data": {
      "text/plain": [
       "<AxesSubplot:xlabel='x1', ylabel='x2'>"
      ]
     },
     "execution_count": 21,
     "metadata": {},
     "output_type": "execute_result"
    },
    {
     "data": {
      "image/png": "[encoded data removed]",
      "text/plain": [
       "<Figure size 432x288 with 1 Axes>"
      ]
     },
     "metadata": {
      "needs_background": "light"
     },
     "output_type": "display_data"
    }
   ],
   "source": [
    "X_soft_drink.plot(\"x1\",\"x2\",kind=\"scatter\")"
   ]
  },
  {
   "cell_type": "code",
   "execution_count": 5,
   "id": "c5c0dd5b",
   "metadata": {},
   "outputs": [
    {
     "data": {
      "text/plain": [
       "0    16.68\n",
       "1    11.50\n",
       "2    12.03\n",
       "3    14.88\n",
       "4    13.75\n",
       "Name: y, dtype: float64"
      ]
     },
     "execution_count": 5,
     "metadata": {},
     "output_type": "execute_result"
    }
   ],
   "source": [
    "Y_soft_drink = soft_drink[\"y\"]\n",
    "Y_soft_drink.head()"
   ]
  },
  {
   "cell_type": "code",
   "execution_count": 74,
   "id": "85a5674e",
   "metadata": {},
   "outputs": [],
   "source": [
    "lr_soft_drink = sm.OLS(Y_soft_drink,X_soft_drink).fit()"
   ]
  },
  {
   "cell_type": "code",
   "execution_count": 75,
   "id": "1a35d366",
   "metadata": {},
   "outputs": [
    {
     "data": {
      "text/html": [
       "<div>\n",
       "<style scoped>\n",
       "    .dataframe tbody tr th:only-of-type {\n",
       "        vertical-align: middle;\n",
       "    }\n",
       "\n",
       "    .dataframe tbody tr th {\n",
       "        vertical-align: top;\n",
       "    }\n",
       "\n",
       "    .dataframe thead th {\n",
       "        text-align: right;\n",
       "    }\n",
       "</style>\n",
       "<table border=\"1\" class=\"dataframe\">\n",
       "  <thead>\n",
       "    <tr style=\"text-align: right;\">\n",
       "      <th></th>\n",
       "      <th>residual</th>\n",
       "    </tr>\n",
       "  </thead>\n",
       "  <tbody>\n",
       "    <tr>\n",
       "      <th>0</th>\n",
       "      <td>-5.028084</td>\n",
       "    </tr>\n",
       "    <tr>\n",
       "      <th>1</th>\n",
       "      <td>1.146385</td>\n",
       "    </tr>\n",
       "    <tr>\n",
       "      <th>2</th>\n",
       "      <td>-0.049794</td>\n",
       "    </tr>\n",
       "    <tr>\n",
       "      <th>3</th>\n",
       "      <td>4.924354</td>\n",
       "    </tr>\n",
       "    <tr>\n",
       "      <th>4</th>\n",
       "      <td>-0.444398</td>\n",
       "    </tr>\n",
       "  </tbody>\n",
       "</table>\n",
       "</div>"
      ],
      "text/plain": [
       "   residual\n",
       "0 -5.028084\n",
       "1  1.146385\n",
       "2 -0.049794\n",
       "3  4.924354\n",
       "4 -0.444398"
      ]
     },
     "execution_count": 75,
     "metadata": {},
     "output_type": "execute_result"
    }
   ],
   "source": [
    "scaled_residual = pd.DataFrame(lr_soft_drink.resid,\n",
    "                              columns=[\"residual\"])\n",
    "scaled_residual.head()"
   ]
  },
  {
   "cell_type": "markdown",
   "id": "56cdd1d3",
   "metadata": {
    "heading_collapsed": true
   },
   "source": [
    "## Hat Matrix \n",
    "\n",
    "$$H = X(X^\\intercal X)^{-1} X^\\intercal$$\n",
    "\n",
    "1. This matrix one of the important matrix in the Linear regression.\n",
    "2. the diagonal of this matirx $h_{ii}$ tell the distance of point $x_i$ in the euclidean space from the centeriod.\n",
    "3. this matrix help to detect the extrapolation while predicting using the model.\n"
   ]
  },
  {
   "cell_type": "markdown",
   "id": "2aeb5193",
   "metadata": {
    "hidden": true
   },
   "source": [
    "**Step to find the extrapolation:**\n",
    "1.  Find the $h_{max}$ from the diagonal element of hat matrix\n",
    "2.  Find the $h_{00}$ for the the given point say $x_0$\n",
    "$$h_{00} = x_0^\\intercal (X^\\intercal X)^{-1} x_0$$\n",
    "\n",
    "3. if the $h_{00} \\gt h_{max}$ then the given point is extrapolated"
   ]
  },
  {
   "cell_type": "code",
   "execution_count": 102,
   "id": "7f2ccebf",
   "metadata": {
    "hidden": true
   },
   "outputs": [],
   "source": [
    "inv_cov_mat_soft_drink = np.linalg.inv(X_soft_drink.T.dot(X_soft_drink))\n",
    "hat_matrix_soft_drink  = X_soft_drink.dot(inv_cov_mat_soft_drink.dot(X_soft_drink.T))\n"
   ]
  },
  {
   "cell_type": "code",
   "execution_count": 103,
   "id": "0f7d379a",
   "metadata": {
    "hidden": true
   },
   "outputs": [],
   "source": [
    "h_ii = hat_matrix_soft_drink.to_numpy().diagonal()\n",
    "h_max = h_ii.max()"
   ]
  },
  {
   "cell_type": "code",
   "execution_count": 104,
   "id": "f7636e88",
   "metadata": {
    "hidden": true
   },
   "outputs": [
    {
     "data": {
      "text/plain": [
       "0.498292159124427"
      ]
     },
     "execution_count": 104,
     "metadata": {},
     "output_type": "execute_result"
    }
   ],
   "source": [
    "h_max"
   ]
  },
  {
   "cell_type": "code",
   "execution_count": 105,
   "id": "4baec6ec",
   "metadata": {
    "hidden": true
   },
   "outputs": [
    {
     "data": {
      "text/plain": [
       "array([[  1],\n",
       "       [  8],\n",
       "       [275]])"
      ]
     },
     "execution_count": 105,
     "metadata": {},
     "output_type": "execute_result"
    }
   ],
   "source": [
    "x_0 "
   ]
  },
  {
   "cell_type": "code",
   "execution_count": 122,
   "id": "dc6e84f3",
   "metadata": {
    "hidden": true
   },
   "outputs": [
    {
     "data": {
      "text/plain": [
       "array([  1,   8, 275])"
      ]
     },
     "execution_count": 122,
     "metadata": {},
     "output_type": "execute_result"
    }
   ],
   "source": [
    "x_0.squeeze()"
   ]
  },
  {
   "cell_type": "code",
   "execution_count": 115,
   "id": "f1b076ef",
   "metadata": {
    "hidden": true
   },
   "outputs": [
    {
     "data": {
      "text/plain": [
       "array(0.05397255)"
      ]
     },
     "execution_count": 115,
     "metadata": {},
     "output_type": "execute_result"
    }
   ],
   "source": [
    "h_00 = x_0.T.dot(inv_cov_mat_soft_drink.dot(x_0))\n",
    "h_00.squeeze()"
   ]
  },
  {
   "cell_type": "code",
   "execution_count": 127,
   "id": "d96dcebf",
   "metadata": {
    "hidden": true
   },
   "outputs": [],
   "source": [
    "def find_extrapolation(point,h_max):\n",
    "    h_00 = point.T.dot(inv_cov_mat_soft_drink.dot(point))\n",
    "    if(h_00 > h_max):\n",
    "        print(f\"The point {point.squeeze()} is an extrapolation point. \\n since h_ 00 = {h_00.squeeze():.3f} > h_max = {h_max:.3f}\")\n",
    "    else:\n",
    "         print(f\"The point {point.squeeze()} is an intrapolation point. \\n since h_00 = {h_00.squeeze():.3f} < h_max = {h_max:.3f}\")"
   ]
  },
  {
   "cell_type": "code",
   "execution_count": 128,
   "id": "214c3507",
   "metadata": {
    "hidden": true
   },
   "outputs": [
    {
     "name": "stdout",
     "output_type": "stream",
     "text": [
      "The point [  1   8 275] is an intrapolation point. \n",
      " since h_00 = 0.054 < h_max = 0.498\n"
     ]
    }
   ],
   "source": [
    "find_extrapolation(x_0,h_max)"
   ]
  },
  {
   "cell_type": "code",
   "execution_count": 129,
   "id": "24939b75",
   "metadata": {
    "hidden": true
   },
   "outputs": [
    {
     "name": "stdout",
     "output_type": "stream",
     "text": [
      "The point [  1  20 250] is an extrapolation point. \n",
      " since h_ 00 = 0.589 > h_max = 0.498\n"
     ]
    }
   ],
   "source": [
    "find_extrapolation(np.array([1,20,250]).reshape((-1,1)),h_max)"
   ]
  },
  {
   "cell_type": "code",
   "execution_count": 130,
   "id": "d5911e56",
   "metadata": {
    "hidden": true
   },
   "outputs": [
    {
     "name": "stdout",
     "output_type": "stream",
     "text": [
      "The point [  1  28 500] is an extrapolation point. \n",
      " since h_ 00 = 0.899 > h_max = 0.498\n"
     ]
    }
   ],
   "source": [
    "find_extrapolation(np.array([1,28,500]).reshape((-1,1)),h_max)"
   ]
  },
  {
   "cell_type": "markdown",
   "id": "c6b706d8",
   "metadata": {},
   "source": [
    "## Standardized Residual \n",
    "\n",
    "$$d_i = \\frac{e_i}{\\sqrt{MS_{res}}}$$\n",
    "\n",
    "\n",
    "1. The average variance is estimated using the $MS_{res}$\n",
    "2. Standardized residual have mean zero.\n",
    "3. Standardized residual has apprx unit variance.\n",
    "\n",
    "<span class=\"mark\">IF $d_i \\gt 3$ indicate the outlier.</span>"
   ]
  },
  {
   "cell_type": "code",
   "execution_count": 76,
   "id": "b80116de",
   "metadata": {},
   "outputs": [],
   "source": [
    "scaled_residual[\"std_residual\"] = scaled_residual.residual / np.sqrt(\n",
    "    lr_soft_drink.mse_resid)"
   ]
  },
  {
   "cell_type": "code",
   "execution_count": 77,
   "id": "ab9aa84f",
   "metadata": {},
   "outputs": [
    {
     "data": {
      "text/html": [
       "<div>\n",
       "<style scoped>\n",
       "    .dataframe tbody tr th:only-of-type {\n",
       "        vertical-align: middle;\n",
       "    }\n",
       "\n",
       "    .dataframe tbody tr th {\n",
       "        vertical-align: top;\n",
       "    }\n",
       "\n",
       "    .dataframe thead th {\n",
       "        text-align: right;\n",
       "    }\n",
       "</style>\n",
       "<table border=\"1\" class=\"dataframe\">\n",
       "  <thead>\n",
       "    <tr style=\"text-align: right;\">\n",
       "      <th></th>\n",
       "      <th>residual</th>\n",
       "      <th>std_residual</th>\n",
       "    </tr>\n",
       "  </thead>\n",
       "  <tbody>\n",
       "    <tr>\n",
       "      <th>0</th>\n",
       "      <td>-5.028084</td>\n",
       "      <td>-1.542606</td>\n",
       "    </tr>\n",
       "    <tr>\n",
       "      <th>1</th>\n",
       "      <td>1.146385</td>\n",
       "      <td>0.351709</td>\n",
       "    </tr>\n",
       "    <tr>\n",
       "      <th>2</th>\n",
       "      <td>-0.049794</td>\n",
       "      <td>-0.015277</td>\n",
       "    </tr>\n",
       "    <tr>\n",
       "      <th>3</th>\n",
       "      <td>4.924354</td>\n",
       "      <td>1.510782</td>\n",
       "    </tr>\n",
       "    <tr>\n",
       "      <th>4</th>\n",
       "      <td>-0.444398</td>\n",
       "      <td>-0.136341</td>\n",
       "    </tr>\n",
       "  </tbody>\n",
       "</table>\n",
       "</div>"
      ],
      "text/plain": [
       "   residual  std_residual\n",
       "0 -5.028084     -1.542606\n",
       "1  1.146385      0.351709\n",
       "2 -0.049794     -0.015277\n",
       "3  4.924354      1.510782\n",
       "4 -0.444398     -0.136341"
      ]
     },
     "execution_count": 77,
     "metadata": {},
     "output_type": "execute_result"
    }
   ],
   "source": [
    "scaled_residual.head()"
   ]
  },
  {
   "cell_type": "code",
   "execution_count": 78,
   "id": "1c2357ce",
   "metadata": {},
   "outputs": [
    {
     "data": {
      "text/plain": [
       "0    -1.542606\n",
       "1     0.351709\n",
       "2    -0.015277\n",
       "3     1.510782\n",
       "4    -0.136341\n",
       "5    -0.088841\n",
       "6     0.259129\n",
       "7     0.354844\n",
       "8     2.276351\n",
       "9     0.729079\n",
       "10    0.686458\n",
       "11   -0.181944\n",
       "12    0.315084\n",
       "13    0.327518\n",
       "14    0.205923\n",
       "15   -0.203385\n",
       "16    0.133874\n",
       "17    1.058030\n",
       "18    0.550148\n",
       "19   -1.775738\n",
       "20   -0.802025\n",
       "21   -1.131019\n",
       "22   -1.413593\n",
       "23   -1.402942\n",
       "24   -0.065220\n",
       "Name: std_residual, dtype: float64"
      ]
     },
     "execution_count": 78,
     "metadata": {},
     "output_type": "execute_result"
    }
   ],
   "source": [
    "scaled_residual.std_residual"
   ]
  },
  {
   "cell_type": "code",
   "execution_count": 79,
   "id": "40787e02",
   "metadata": {},
   "outputs": [
    {
     "data": {
      "text/plain": [
       "5.312417172831374e-16"
      ]
     },
     "execution_count": 79,
     "metadata": {},
     "output_type": "execute_result"
    }
   ],
   "source": [
    "scaled_residual.std_residual.mean()"
   ]
  },
  {
   "cell_type": "code",
   "execution_count": 80,
   "id": "a4792746",
   "metadata": {},
   "outputs": [
    {
     "data": {
      "text/plain": [
       "0.957427107756338"
      ]
     },
     "execution_count": 80,
     "metadata": {},
     "output_type": "execute_result"
    }
   ],
   "source": [
    "scaled_residual.std_residual.std()"
   ]
  },
  {
   "cell_type": "markdown",
   "id": "48772d5a",
   "metadata": {},
   "source": [
    "## Studentized Residual\n",
    "$$r_i = \\frac{e_i}{\\sqrt{MS_{res} (1 - h_{ii})}}$$"
   ]
  },
  {
   "cell_type": "code",
   "execution_count": 133,
   "id": "4f818aa5",
   "metadata": {},
   "outputs": [],
   "source": [
    "inv_cov_mat_soft_drink = np.linalg.inv(X_soft_drink.T.dot(X_soft_drink))\n",
    "hat_matrix_soft_drink  = X_soft_drink.dot(inv_cov_mat_soft_drink.dot(X_soft_drink.T))\n"
   ]
  },
  {
   "cell_type": "code",
   "execution_count": 135,
   "id": "7f7ff358",
   "metadata": {},
   "outputs": [
    {
     "data": {
      "text/plain": [
       "(25,)"
      ]
     },
     "execution_count": 135,
     "metadata": {},
     "output_type": "execute_result"
    }
   ],
   "source": [
    "h_ii = hat_matrix_soft_drink.to_numpy().diagonal()\n",
    "h_ii.shape"
   ]
  },
  {
   "cell_type": "code",
   "execution_count": 138,
   "id": "0af59e01",
   "metadata": {},
   "outputs": [],
   "source": [
    "scaled_residual[\"student_residual\"] = scaled_residual[\"residual\"]/np.sqrt(lr_soft_drink.mse_resid * (1 - h_ii))"
   ]
  },
  {
   "cell_type": "code",
   "execution_count": 146,
   "id": "58d3e6a0",
   "metadata": {},
   "outputs": [
    {
     "data": {
      "text/html": [
       "<div>\n",
       "<style scoped>\n",
       "    .dataframe tbody tr th:only-of-type {\n",
       "        vertical-align: middle;\n",
       "    }\n",
       "\n",
       "    .dataframe tbody tr th {\n",
       "        vertical-align: top;\n",
       "    }\n",
       "\n",
       "    .dataframe thead th {\n",
       "        text-align: right;\n",
       "    }\n",
       "</style>\n",
       "<table border=\"1\" class=\"dataframe\">\n",
       "  <thead>\n",
       "    <tr style=\"text-align: right;\">\n",
       "      <th></th>\n",
       "      <th>intercpt</th>\n",
       "      <th>x1</th>\n",
       "      <th>x2</th>\n",
       "    </tr>\n",
       "  </thead>\n",
       "  <tbody>\n",
       "    <tr>\n",
       "      <th>8</th>\n",
       "      <td>1</td>\n",
       "      <td>30</td>\n",
       "      <td>1460</td>\n",
       "    </tr>\n",
       "  </tbody>\n",
       "</table>\n",
       "</div>"
      ],
      "text/plain": [
       "   intercpt  x1    x2\n",
       "8         1  30  1460"
      ]
     },
     "execution_count": 146,
     "metadata": {},
     "output_type": "execute_result"
    }
   ],
   "source": [
    "X_soft_drink[abs(scaled_residual[\"student_residual\"]) > 3]"
   ]
  },
  {
   "cell_type": "code",
   "execution_count": 153,
   "id": "a1ac8a43",
   "metadata": {},
   "outputs": [
    {
     "data": {
      "text/plain": [
       "<AxesSubplot:xlabel='x1', ylabel='x2'>"
      ]
     },
     "execution_count": 153,
     "metadata": {},
     "output_type": "execute_result"
    },
    {
     "data": {
      "image/png": "[encoded data removed]",
      "text/plain": [
       "<Figure size 432x288 with 2 Axes>"
      ]
     },
     "metadata": {
      "needs_background": "light"
     },
     "output_type": "display_data"
    }
   ],
   "source": [
    "X_soft_drink.plot(\"x1\",\"x2\",\n",
    "                 kind=\"scatter\",\n",
    "                 c = abs(scaled_residual[\"student_residual\"]) > 3,\n",
    "                 cmap =\"rainbow\")\n"
   ]
  },
  {
   "cell_type": "code",
   "execution_count": 154,
   "id": "58e6eeae",
   "metadata": {},
   "outputs": [
    {
     "data": {
      "text/html": [
       "<div>\n",
       "<style scoped>\n",
       "    .dataframe tbody tr th:only-of-type {\n",
       "        vertical-align: middle;\n",
       "    }\n",
       "\n",
       "    .dataframe tbody tr th {\n",
       "        vertical-align: top;\n",
       "    }\n",
       "\n",
       "    .dataframe thead th {\n",
       "        text-align: right;\n",
       "    }\n",
       "</style>\n",
       "<table border=\"1\" class=\"dataframe\">\n",
       "  <thead>\n",
       "    <tr style=\"text-align: right;\">\n",
       "      <th></th>\n",
       "      <th>student_resid</th>\n",
       "      <th>unadj_p</th>\n",
       "      <th>bonf(p)</th>\n",
       "    </tr>\n",
       "  </thead>\n",
       "  <tbody>\n",
       "    <tr>\n",
       "      <th>0</th>\n",
       "      <td>-1.695629</td>\n",
       "      <td>0.104733</td>\n",
       "      <td>1.000000</td>\n",
       "    </tr>\n",
       "    <tr>\n",
       "      <th>1</th>\n",
       "      <td>0.357538</td>\n",
       "      <td>0.724258</td>\n",
       "      <td>1.000000</td>\n",
       "    </tr>\n",
       "    <tr>\n",
       "      <th>2</th>\n",
       "      <td>-0.015722</td>\n",
       "      <td>0.987605</td>\n",
       "      <td>1.000000</td>\n",
       "    </tr>\n",
       "    <tr>\n",
       "      <th>3</th>\n",
       "      <td>1.639165</td>\n",
       "      <td>0.116075</td>\n",
       "      <td>1.000000</td>\n",
       "    </tr>\n",
       "    <tr>\n",
       "      <th>4</th>\n",
       "      <td>-0.138565</td>\n",
       "      <td>0.891114</td>\n",
       "      <td>1.000000</td>\n",
       "    </tr>\n",
       "    <tr>\n",
       "      <th>5</th>\n",
       "      <td>-0.088737</td>\n",
       "      <td>0.930132</td>\n",
       "      <td>1.000000</td>\n",
       "    </tr>\n",
       "    <tr>\n",
       "      <th>6</th>\n",
       "      <td>0.264648</td>\n",
       "      <td>0.793861</td>\n",
       "      <td>1.000000</td>\n",
       "    </tr>\n",
       "    <tr>\n",
       "      <th>7</th>\n",
       "      <td>0.359390</td>\n",
       "      <td>0.722892</td>\n",
       "      <td>1.000000</td>\n",
       "    </tr>\n",
       "    <tr>\n",
       "      <th>8</th>\n",
       "      <td>4.310780</td>\n",
       "      <td>0.000309</td>\n",
       "      <td>0.007726</td>\n",
       "    </tr>\n",
       "    <tr>\n",
       "      <th>9</th>\n",
       "      <td>0.806776</td>\n",
       "      <td>0.428839</td>\n",
       "      <td>1.000000</td>\n",
       "    </tr>\n",
       "    <tr>\n",
       "      <th>10</th>\n",
       "      <td>0.709939</td>\n",
       "      <td>0.485551</td>\n",
       "      <td>1.000000</td>\n",
       "    </tr>\n",
       "    <tr>\n",
       "      <th>11</th>\n",
       "      <td>-0.188975</td>\n",
       "      <td>0.851927</td>\n",
       "      <td>1.000000</td>\n",
       "    </tr>\n",
       "    <tr>\n",
       "      <th>12</th>\n",
       "      <td>0.318469</td>\n",
       "      <td>0.753275</td>\n",
       "      <td>1.000000</td>\n",
       "    </tr>\n",
       "    <tr>\n",
       "      <th>13</th>\n",
       "      <td>0.334177</td>\n",
       "      <td>0.741560</td>\n",
       "      <td>1.000000</td>\n",
       "    </tr>\n",
       "    <tr>\n",
       "      <th>14</th>\n",
       "      <td>0.205663</td>\n",
       "      <td>0.839035</td>\n",
       "      <td>1.000000</td>\n",
       "    </tr>\n",
       "    <tr>\n",
       "      <th>15</th>\n",
       "      <td>-0.217826</td>\n",
       "      <td>0.829668</td>\n",
       "      <td>1.000000</td>\n",
       "    </tr>\n",
       "    <tr>\n",
       "      <th>16</th>\n",
       "      <td>0.134924</td>\n",
       "      <td>0.893957</td>\n",
       "      <td>1.000000</td>\n",
       "    </tr>\n",
       "    <tr>\n",
       "      <th>17</th>\n",
       "      <td>1.119331</td>\n",
       "      <td>0.275639</td>\n",
       "      <td>1.000000</td>\n",
       "    </tr>\n",
       "    <tr>\n",
       "      <th>18</th>\n",
       "      <td>0.569814</td>\n",
       "      <td>0.574850</td>\n",
       "      <td>1.000000</td>\n",
       "    </tr>\n",
       "    <tr>\n",
       "      <th>19</th>\n",
       "      <td>-1.996677</td>\n",
       "      <td>0.058986</td>\n",
       "      <td>1.000000</td>\n",
       "    </tr>\n",
       "    <tr>\n",
       "      <th>20</th>\n",
       "      <td>-0.873087</td>\n",
       "      <td>0.392490</td>\n",
       "      <td>1.000000</td>\n",
       "    </tr>\n",
       "    <tr>\n",
       "      <th>21</th>\n",
       "      <td>-1.489625</td>\n",
       "      <td>0.151189</td>\n",
       "      <td>1.000000</td>\n",
       "    </tr>\n",
       "    <tr>\n",
       "      <th>22</th>\n",
       "      <td>-1.482467</td>\n",
       "      <td>0.153068</td>\n",
       "      <td>1.000000</td>\n",
       "    </tr>\n",
       "    <tr>\n",
       "      <th>23</th>\n",
       "      <td>-1.542215</td>\n",
       "      <td>0.137957</td>\n",
       "      <td>1.000000</td>\n",
       "    </tr>\n",
       "    <tr>\n",
       "      <th>24</th>\n",
       "      <td>-0.065963</td>\n",
       "      <td>0.948031</td>\n",
       "      <td>1.000000</td>\n",
       "    </tr>\n",
       "  </tbody>\n",
       "</table>\n",
       "</div>"
      ],
      "text/plain": [
       "    student_resid   unadj_p   bonf(p)\n",
       "0       -1.695629  0.104733  1.000000\n",
       "1        0.357538  0.724258  1.000000\n",
       "2       -0.015722  0.987605  1.000000\n",
       "3        1.639165  0.116075  1.000000\n",
       "4       -0.138565  0.891114  1.000000\n",
       "5       -0.088737  0.930132  1.000000\n",
       "6        0.264648  0.793861  1.000000\n",
       "7        0.359390  0.722892  1.000000\n",
       "8        4.310780  0.000309  0.007726\n",
       "9        0.806776  0.428839  1.000000\n",
       "10       0.709939  0.485551  1.000000\n",
       "11      -0.188975  0.851927  1.000000\n",
       "12       0.318469  0.753275  1.000000\n",
       "13       0.334177  0.741560  1.000000\n",
       "14       0.205663  0.839035  1.000000\n",
       "15      -0.217826  0.829668  1.000000\n",
       "16       0.134924  0.893957  1.000000\n",
       "17       1.119331  0.275639  1.000000\n",
       "18       0.569814  0.574850  1.000000\n",
       "19      -1.996677  0.058986  1.000000\n",
       "20      -0.873087  0.392490  1.000000\n",
       "21      -1.489625  0.151189  1.000000\n",
       "22      -1.482467  0.153068  1.000000\n",
       "23      -1.542215  0.137957  1.000000\n",
       "24      -0.065963  0.948031  1.000000"
      ]
     },
     "execution_count": 154,
     "metadata": {},
     "output_type": "execute_result"
    }
   ],
   "source": [
    "lr_soft_drink.outlier_test()"
   ]
  },
  {
   "cell_type": "code",
   "execution_count": 158,
   "id": "59ab1aeb",
   "metadata": {},
   "outputs": [
    {
     "data": {
      "image/png": "[encoded data removed]",
      "text/plain": [
       "<Figure size 432x288 with 1 Axes>"
      ]
     },
     "metadata": {
      "needs_background": "light"
     },
     "output_type": "display_data"
    }
   ],
   "source": [
    "sm_y_hat = lr_soft_drink.predict(X_soft_drink)\n",
    "plt.axhline(y=-3,color = \"red\")\n",
    "plt.axhline(y=3,color = \"red\")\n",
    "plt.scatter(x=sm_y_hat,y=scaled_residual[\"student_residual\"])\n",
    "plt.title('Outlier Identification')\n",
    "plt.ylabel('Studentized Residuals')\n",
    "plt.xlabel('Predicted ')\n",
    "plt.show()"
   ]
  },
  {
   "cell_type": "markdown",
   "id": "29e65fd9",
   "metadata": {},
   "source": [
    "## Press Residual\n",
    "\n",
    "$$e_{(i)} = \\frac{e_i}{1 - h_{ii}}$$\n",
    "\n",
    "\n",
    "The standandized form of press residual is Studentized residual"
   ]
  },
  {
   "cell_type": "code",
   "execution_count": 160,
   "id": "202bd4c0",
   "metadata": {},
   "outputs": [
    {
     "data": {
      "text/plain": [
       "0     -5.597967\n",
       "1      1.233603\n",
       "2     -0.055249\n",
       "3      5.384013\n",
       "4     -0.480436\n",
       "5     -0.302543\n",
       "6      0.919867\n",
       "7      1.235327\n",
       "8     14.788898\n",
       "9      2.956826\n",
       "10     2.448378\n",
       "11    -0.669086\n",
       "12     1.093872\n",
       "13     1.158154\n",
       "14     0.699978\n",
       "15    -0.794821\n",
       "16     0.463933\n",
       "17     3.815946\n",
       "18     1.984606\n",
       "19    -6.443140\n",
       "20    -3.131792\n",
       "21    -6.059135\n",
       "22    -4.805858\n",
       "23    -5.200019\n",
       "24    -0.227763\n",
       "Name: press_residual, dtype: float64"
      ]
     },
     "execution_count": 160,
     "metadata": {},
     "output_type": "execute_result"
    }
   ],
   "source": [
    "scaled_residual[\"press_residual\"] = scaled_residual[\"residual\"]/ ( 1 - h_ii)\n",
    "scaled_residual[\"press_residual\"]"
   ]
  },
  {
   "cell_type": "markdown",
   "id": "a9484e18",
   "metadata": {},
   "source": [
    "## External Studentized residual\n",
    "\n",
    "Instead of using the $MS_{res}$ use the $S_i^2$\n",
    "\n",
    "$$S_i^2 = \\frac{(n-p)MS_{res} - e_i^2 / (1 - h_{ii})}{n-p-1}$$\n",
    "\n",
    "\n",
    "\n",
    "$$r_i = \\frac{e_i}{\\sqrt{S_i^2 (1 - h_{ii})}}$$"
   ]
  },
  {
   "cell_type": "code",
   "execution_count": 172,
   "id": "dc329396",
   "metadata": {},
   "outputs": [],
   "source": [
    "numerartor = (lr_soft_drink.df_resid * lr_soft_drink.mse_resid) - ((lr_soft_drink.resid)**2)/ (1 - h_ii)\n",
    "demo = lr_soft_drink.df_resid -1 "
   ]
  },
  {
   "cell_type": "code",
   "execution_count": 173,
   "id": "f8d0e769",
   "metadata": {},
   "outputs": [],
   "source": [
    "s_i = numerartor/demo"
   ]
  },
  {
   "cell_type": "code",
   "execution_count": 174,
   "id": "1d4d14c2",
   "metadata": {},
   "outputs": [],
   "source": [
    "scaled_residual[\"external_student_residual\"] = scaled_residual[\"residual\"]/np.sqrt(s_i * (1 - h_ii))"
   ]
  },
  {
   "cell_type": "markdown",
   "id": "2d7464b4",
   "metadata": {},
   "source": [
    "# Residual Plot "
   ]
  },
  {
   "cell_type": "markdown",
   "id": "ee3cf7cb",
   "metadata": {},
   "source": [
    "##  Normal Probability plot"
   ]
  },
  {
   "cell_type": "code",
   "execution_count": 184,
   "id": "544aad52",
   "metadata": {},
   "outputs": [
    {
     "data": {
      "image/png": "[encoded data removed]",
      "text/plain": [
       "<Figure size 432x288 with 1 Axes>"
      ]
     },
     "metadata": {
      "needs_background": "light"
     },
     "output_type": "display_data"
    }
   ],
   "source": [
    "sm.ProbPlot(scaled_residual[\"external_student_residual\"],\n",
    "         ).qqplot(line=\"s\")\n",
    "plt.show()"
   ]
  },
  {
   "cell_type": "code",
   "execution_count": 185,
   "id": "91083ff4",
   "metadata": {},
   "outputs": [
    {
     "data": {
      "image/png": "[encoded data removed]",
      "text/plain": [
       "<Figure size 432x288 with 1 Axes>"
      ]
     },
     "metadata": {
      "needs_background": "light"
     },
     "output_type": "display_data"
    }
   ],
   "source": [
    "sm.ProbPlot(scaled_residual[\"external_student_residual\"],\n",
    "         ).probplot(line=\"s\")\n",
    "plt.show()"
   ]
  },
  {
   "cell_type": "code",
   "execution_count": 190,
   "id": "3eb39ad4",
   "metadata": {},
   "outputs": [
    {
     "data": {
      "image/png": "[encoded data removed]",
      "text/plain": [
       "<Figure size 432x288 with 1 Axes>"
      ]
     },
     "metadata": {
      "needs_background": "light"
     },
     "output_type": "display_data"
    }
   ],
   "source": [
    "plt.scatter(x = lr_soft_drink.predict(X_soft_drink),\n",
    "           y =scaled_residual[\"external_student_residual\"])\n",
    "plt.xticks(np.arange(0,100,10))\n",
    "plt.xlabel(\"Fiited Value\")\n",
    "plt.ylabel(\"Externally Studentized Residual\")\n",
    "plt.axhline(y=0,color =\"red\")\n",
    "plt.show()"
   ]
  },
  {
   "cell_type": "code",
   "execution_count": 191,
   "id": "b60519dc",
   "metadata": {},
   "outputs": [
    {
     "data": {
      "text/plain": [
       "459.03931470254474"
      ]
     },
     "execution_count": 191,
     "metadata": {},
     "output_type": "execute_result"
    }
   ],
   "source": [
    "outlier.ess_press"
   ]
  },
  {
   "cell_type": "code",
   "execution_count": null,
   "id": "16d05a1e",
   "metadata": {},
   "outputs": [],
   "source": []
  }
 ],
 "metadata": {
  "kernelspec": {
   "display_name": "Python 3 (ipykernel)",
   "language": "python",
   "name": "python3"
  },
  "language_info": {
   "codemirror_mode": {
    "name": "ipython",
    "version": 3
   },
   "file_extension": ".py",
   "mimetype": "text/x-python",
   "name": "python",
   "nbconvert_exporter": "python",
   "pygments_lexer": "ipython3",
   "version": "3.9.12"
  },
  "toc": {
   "base_numbering": 1,
   "nav_menu": {},
   "number_sections": true,
   "sideBar": true,
   "skip_h1_title": false,
   "title_cell": "Table of Contents",
   "title_sidebar": "Contents",
   "toc_cell": false,
   "toc_position": {},
   "toc_section_display": true,
   "toc_window_display": false
  },
  "varInspector": {
   "cols": {
    "lenName": 16,
    "lenType": 16,
    "lenVar": 40
   },
   "kernels_config": {
    "python": {
     "delete_cmd_postfix": "",
     "delete_cmd_prefix": "del ",
     "library": "var_list.py",
     "varRefreshCmd": "print(var_dic_list())"
    },
    "r": {
     "delete_cmd_postfix": ") ",
     "delete_cmd_prefix": "rm(",
     "library": "var_list.r",
     "varRefreshCmd": "cat(var_dic_list()) "
    }
   },
   "types_to_exclude": [
    "module",
    "function",
    "builtin_function_or_method",
    "instance",
    "_Feature"
   ],
   "window_display": false
  }
 },
 "nbformat": 4,
 "nbformat_minor": 5
}
