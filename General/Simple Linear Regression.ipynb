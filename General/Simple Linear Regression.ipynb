{
 "cells": [
  {
   "cell_type": "code",
   "execution_count": null,
   "id": "2ca79a3f",
   "metadata": {},
   "outputs": [],
   "source": []
  },
  {
   "cell_type": "code",
   "execution_count": 1,
   "id": "e8dc08c9",
   "metadata": {},
   "outputs": [],
   "source": [
    "import numpy as np\n",
    "import pandas as pd\n",
    "pd.options.display.float_format = '{:.2f}'.format\n",
    "pd.set_option(\"display.precision\",2)\n",
    "pd.set_option(\"chop_threshold\", 0.005)"
   ]
  },
  {
   "cell_type": "code",
   "execution_count": 2,
   "id": "ab32446a",
   "metadata": {},
   "outputs": [],
   "source": [
    "y = pd.Series([1,1,2,2,4],dtype=int)"
   ]
  },
  {
   "cell_type": "code",
   "execution_count": 3,
   "id": "632ff472",
   "metadata": {},
   "outputs": [],
   "source": [
    "x = pd.Series([1,2,3,4,5],dtype=int)"
   ]
  },
  {
   "cell_type": "code",
   "execution_count": 4,
   "id": "8646fba9",
   "metadata": {},
   "outputs": [
    {
     "data": {
      "text/plain": [
       "0    1\n",
       "1    2\n",
       "2    3\n",
       "3    4\n",
       "4    5\n",
       "dtype: int32"
      ]
     },
     "execution_count": 4,
     "metadata": {},
     "output_type": "execute_result"
    }
   ],
   "source": [
    "x"
   ]
  },
  {
   "cell_type": "code",
   "execution_count": 5,
   "id": "cd92421e",
   "metadata": {},
   "outputs": [
    {
     "data": {
      "text/plain": [
       "0    1\n",
       "1    1\n",
       "2    2\n",
       "3    2\n",
       "4    4\n",
       "dtype: int32"
      ]
     },
     "execution_count": 5,
     "metadata": {},
     "output_type": "execute_result"
    }
   ],
   "source": [
    "y"
   ]
  },
  {
   "cell_type": "code",
   "execution_count": 6,
   "id": "769e80db",
   "metadata": {},
   "outputs": [
    {
     "data": {
      "text/plain": [
       "37"
      ]
     },
     "execution_count": 6,
     "metadata": {},
     "output_type": "execute_result"
    }
   ],
   "source": [
    "x.mul(y).sum()"
   ]
  },
  {
   "cell_type": "markdown",
   "id": "1901eaea",
   "metadata": {},
   "source": [
    "# Find the b_0 and b_1  "
   ]
  },
  {
   "cell_type": "code",
   "execution_count": 13,
   "id": "c9e7c922",
   "metadata": {},
   "outputs": [],
   "source": [
    "def summation(x,y):\n",
    "    return ((x-x.mean())  * (y- y.mean())).sum()"
   ]
  },
  {
   "cell_type": "code",
   "execution_count": 14,
   "id": "f1c419c6",
   "metadata": {},
   "outputs": [
    {
     "data": {
      "text/plain": [
       "0.7"
      ]
     },
     "execution_count": 14,
     "metadata": {},
     "output_type": "execute_result"
    }
   ],
   "source": [
    "summation(x,y) /summation(x,x)"
   ]
  },
  {
   "cell_type": "code",
   "execution_count": 8,
   "id": "ae834496",
   "metadata": {},
   "outputs": [],
   "source": [
    "def sum_of_square(x,y):\n",
    "    summation = x.mul(y).sum()\n",
    "    return (summation - (len(x) * np.mean(x) *  np.mean(y)))"
   ]
  },
  {
   "cell_type": "code",
   "execution_count": 9,
   "id": "80979c12",
   "metadata": {},
   "outputs": [],
   "source": [
    "b_1 = round(sum_of_square(x,y) / sum_of_square(x,x) ,2)"
   ]
  },
  {
   "cell_type": "code",
   "execution_count": 10,
   "id": "081dcfe0",
   "metadata": {},
   "outputs": [],
   "source": [
    "b_0 = round(np.mean(y) - (b_1 * np.mean(x)),2)"
   ]
  },
  {
   "cell_type": "code",
   "execution_count": 11,
   "id": "afc83e90",
   "metadata": {},
   "outputs": [
    {
     "data": {
      "text/plain": [
       "'Linear equation is Y=-0.1+0.7X'"
      ]
     },
     "execution_count": 11,
     "metadata": {},
     "output_type": "execute_result"
    }
   ],
   "source": [
    "f\"Linear equation is Y={b_0}+{b_1}X\""
   ]
  },
  {
   "cell_type": "markdown",
   "id": "b398df48",
   "metadata": {},
   "source": [
    "# Hypothesis Testing "
   ]
  },
  {
   "cell_type": "code",
   "execution_count": 12,
   "id": "65de9885",
   "metadata": {},
   "outputs": [],
   "source": [
    "y_hat = pd.Series([(b_0+b_1*i) for i in x])"
   ]
  },
  {
   "cell_type": "code",
   "execution_count": 13,
   "id": "5e9910cc",
   "metadata": {},
   "outputs": [],
   "source": [
    "residual = y - y_hat"
   ]
  },
  {
   "cell_type": "code",
   "execution_count": 14,
   "id": "4a2962c5",
   "metadata": {},
   "outputs": [
    {
     "data": {
      "text/plain": [
       "(0   0.60\n",
       " 1   1.30\n",
       " 2   2.00\n",
       " 3   2.70\n",
       " 4   3.40\n",
       " dtype: float64,\n",
       " 0    0.40\n",
       " 1   -0.30\n",
       " 2    0.00\n",
       " 3   -0.70\n",
       " 4    0.60\n",
       " dtype: float64)"
      ]
     },
     "execution_count": 14,
     "metadata": {},
     "output_type": "execute_result"
    }
   ],
   "source": [
    "y_hat , residual"
   ]
  },
  {
   "cell_type": "code",
   "execution_count": 15,
   "id": "7ca2c2cf",
   "metadata": {},
   "outputs": [],
   "source": [
    "SS_res = (residual**2).sum()"
   ]
  },
  {
   "cell_type": "code",
   "execution_count": 16,
   "id": "9cb67111",
   "metadata": {},
   "outputs": [],
   "source": [
    "dof = len(x) -2 \n",
    "mean_residual_square = SS_res / dof"
   ]
  },
  {
   "cell_type": "code",
   "execution_count": 17,
   "id": "ead3a1b6",
   "metadata": {},
   "outputs": [],
   "source": [
    "t_statistic = b_1 / (np.sqrt(mean_residual_square / sum_of_square(x,x)))"
   ]
  },
  {
   "cell_type": "code",
   "execution_count": 18,
   "id": "f0795cf6",
   "metadata": {},
   "outputs": [
    {
     "data": {
      "text/plain": [
       "3.655630775069655"
      ]
     },
     "execution_count": 18,
     "metadata": {},
     "output_type": "execute_result"
    }
   ],
   "source": [
    "t_statistic"
   ]
  },
  {
   "cell_type": "code",
   "execution_count": 19,
   "id": "12e6a8b0",
   "metadata": {},
   "outputs": [],
   "source": [
    "from scipy.stats import t"
   ]
  },
  {
   "cell_type": "code",
   "execution_count": 20,
   "id": "5b3c2b38",
   "metadata": {},
   "outputs": [
    {
     "data": {
      "text/plain": [
       "0.03535284700251751"
      ]
     },
     "execution_count": 20,
     "metadata": {},
     "output_type": "execute_result"
    }
   ],
   "source": [
    " 2 * (1 - t.cdf(abs(t_statistic),dof))"
   ]
  },
  {
   "cell_type": "code",
   "execution_count": 21,
   "id": "f6ff3d2a",
   "metadata": {},
   "outputs": [
    {
     "data": {
      "text/plain": [
       "3"
      ]
     },
     "execution_count": 21,
     "metadata": {},
     "output_type": "execute_result"
    }
   ],
   "source": [
    "dof"
   ]
  },
  {
   "cell_type": "code",
   "execution_count": 23,
   "id": "6dbd9c8b",
   "metadata": {},
   "outputs": [
    {
     "data": {
      "text/plain": [
       "0.03535284700251736"
      ]
     },
     "execution_count": 23,
     "metadata": {},
     "output_type": "execute_result"
    }
   ],
   "source": [
    "p_value = t.sf(np.abs(t_statistic),dof) *2 \n",
    "p_value"
   ]
  },
  {
   "cell_type": "code",
   "execution_count": 24,
   "id": "3e6b6ec4",
   "metadata": {},
   "outputs": [],
   "source": [
    "def hypo_test(alpha,p_value):\n",
    "    if(p_value < alpha):\n",
    "        print(\"Reject the null hypothetis\")\n",
    "    else:\n",
    "        print(\"Donot reject the hypothesis\")"
   ]
  },
  {
   "cell_type": "code",
   "execution_count": 25,
   "id": "be9f642a",
   "metadata": {},
   "outputs": [
    {
     "name": "stdout",
     "output_type": "stream",
     "text": [
      "Reject the null hypothetis\n"
     ]
    }
   ],
   "source": [
    "hypo_test(0.05,p_value)"
   ]
  },
  {
   "cell_type": "markdown",
   "id": "08776a6d",
   "metadata": {},
   "source": [
    "# AVONA "
   ]
  },
  {
   "cell_type": "code",
   "execution_count": 26,
   "id": "5528ecc0",
   "metadata": {},
   "outputs": [
    {
     "data": {
      "text/plain": [
       "4.8999999999999995"
      ]
     },
     "execution_count": 26,
     "metadata": {},
     "output_type": "execute_result"
    }
   ],
   "source": [
    "SS_reg = b_1 **2 * sum_of_square(x,x)\n",
    "SS_reg"
   ]
  },
  {
   "cell_type": "code",
   "execution_count": 27,
   "id": "426a6fe1",
   "metadata": {},
   "outputs": [
    {
     "data": {
      "text/plain": [
       "(1, 3)"
      ]
     },
     "execution_count": 27,
     "metadata": {},
     "output_type": "execute_result"
    }
   ],
   "source": [
    "dof_reg = 1\n",
    "dof_res = len(x) - 2\n",
    "dof_reg ,dof_res"
   ]
  },
  {
   "cell_type": "code",
   "execution_count": 28,
   "id": "44ccf98c",
   "metadata": {},
   "outputs": [
    {
     "data": {
      "text/plain": [
       "(4.8999999999999995, 0.36666666666666653)"
      ]
     },
     "execution_count": 28,
     "metadata": {},
     "output_type": "execute_result"
    }
   ],
   "source": [
    "MS_res = SS_res / dof_res\n",
    "MS_reg = SS_reg / dof_reg\n",
    "MS_reg,MS_res"
   ]
  },
  {
   "cell_type": "code",
   "execution_count": 29,
   "id": "c8db7113",
   "metadata": {},
   "outputs": [
    {
     "data": {
      "text/plain": [
       "13.363636363636367"
      ]
     },
     "execution_count": 29,
     "metadata": {},
     "output_type": "execute_result"
    }
   ],
   "source": [
    "f_statistic = MS_reg / MS_res\n",
    "f_statistic"
   ]
  },
  {
   "cell_type": "code",
   "execution_count": 30,
   "id": "d859b3f5",
   "metadata": {},
   "outputs": [],
   "source": [
    "from scipy.stats import f"
   ]
  },
  {
   "cell_type": "code",
   "execution_count": 31,
   "id": "57e6d0ac",
   "metadata": {},
   "outputs": [
    {
     "data": {
      "text/plain": [
       "0.03535284700251736"
      ]
     },
     "execution_count": 31,
     "metadata": {},
     "output_type": "execute_result"
    }
   ],
   "source": [
    "p_Value = f.sf(f_statistic , dof_reg ,dof_res)\n",
    "p_value"
   ]
  },
  {
   "cell_type": "code",
   "execution_count": 32,
   "id": "8ec47abc",
   "metadata": {},
   "outputs": [
    {
     "name": "stdout",
     "output_type": "stream",
     "text": [
      "Reject the null hypothetis\n"
     ]
    }
   ],
   "source": [
    "hypo_test(0.05,p_value)"
   ]
  },
  {
   "cell_type": "markdown",
   "id": "171e501f",
   "metadata": {},
   "source": [
    "#  Coefficient of Determination"
   ]
  },
  {
   "cell_type": "code",
   "execution_count": 51,
   "id": "0e583b79",
   "metadata": {},
   "outputs": [
    {
     "data": {
      "text/plain": [
       "0.8166666666666665"
      ]
     },
     "execution_count": 51,
     "metadata": {},
     "output_type": "execute_result"
    }
   ],
   "source": [
    "SS_t = ((y - np.mean(y))**2).sum()\n",
    "R_squared = SS_reg / SS_t\n",
    "R_squared"
   ]
  },
  {
   "cell_type": "markdown",
   "id": "f765d81f",
   "metadata": {},
   "source": [
    "81% of varaiation is explained by the model"
   ]
  },
  {
   "cell_type": "markdown",
   "id": "1d496df1",
   "metadata": {},
   "source": [
    "#  Confidence Interval"
   ]
  },
  {
   "cell_type": "markdown",
   "id": "dae7d752",
   "metadata": {},
   "source": [
    "##  Chooose the Parameter\n",
    "\n",
    "Finding the Confidence Interval for parameter(b_1)"
   ]
  },
  {
   "cell_type": "code",
   "execution_count": 54,
   "id": "f0f5d3c4",
   "metadata": {},
   "outputs": [
    {
     "data": {
      "text/plain": [
       "0.3673994978775869"
      ]
     },
     "execution_count": 54,
     "metadata": {},
     "output_type": "execute_result"
    }
   ],
   "source": [
    "alpha = 0.05\n",
    "dof = len(x)-2\n",
    "t.pdf(alpha/2 , dof)"
   ]
  },
  {
   "cell_type": "code",
   "execution_count": 58,
   "id": "86316a15",
   "metadata": {},
   "outputs": [
    {
     "data": {
      "text/plain": [
       "3.1824463052842638"
      ]
     },
     "execution_count": 58,
     "metadata": {},
     "output_type": "execute_result"
    }
   ],
   "source": [
    "#to find the critical value\n",
    "crit = abs(t.ppf(alpha/2 ,dof))\n",
    "crit"
   ]
  },
  {
   "cell_type": "code",
   "execution_count": 60,
   "id": "a9007c61",
   "metadata": {},
   "outputs": [
    {
     "data": {
      "text/plain": [
       "(0.09060792766836867, 1.3093920723316312)"
      ]
     },
     "execution_count": 60,
     "metadata": {},
     "output_type": "execute_result"
    }
   ],
   "source": [
    "(b_1-crit* np.sqrt(MS_res/sum_of_square(x,x)) , b_1+crit* np.sqrt(MS_res/sum_of_square(x,x)))"
   ]
  },
  {
   "cell_type": "markdown",
   "id": "aa89cd19",
   "metadata": {},
   "source": [
    "im 95% confident that the b_1 of the population will lie in the range interval (0.1 , 1.3)"
   ]
  },
  {
   "cell_type": "code",
   "execution_count": null,
   "id": "70768401",
   "metadata": {},
   "outputs": [],
   "source": []
  }
 ],
 "metadata": {
  "kernelspec": {
   "display_name": "Python 3 (ipykernel)",
   "language": "python",
   "name": "python3"
  },
  "language_info": {
   "codemirror_mode": {
    "name": "ipython",
    "version": 3
   },
   "file_extension": ".py",
   "mimetype": "text/x-python",
   "name": "python",
   "nbconvert_exporter": "python",
   "pygments_lexer": "ipython3",
   "version": "3.9.12"
  },
  "toc": {
   "base_numbering": 1,
   "nav_menu": {},
   "number_sections": true,
   "sideBar": true,
   "skip_h1_title": false,
   "title_cell": "Table of Contents",
   "title_sidebar": "Contents",
   "toc_cell": false,
   "toc_position": {},
   "toc_section_display": true,
   "toc_window_display": false
  },
  "varInspector": {
   "cols": {
    "lenName": 16,
    "lenType": 16,
    "lenVar": 40
   },
   "kernels_config": {
    "python": {
     "delete_cmd_postfix": "",
     "delete_cmd_prefix": "del ",
     "library": "var_list.py",
     "varRefreshCmd": "print(var_dic_list())"
    },
    "r": {
     "delete_cmd_postfix": ") ",
     "delete_cmd_prefix": "rm(",
     "library": "var_list.r",
     "varRefreshCmd": "cat(var_dic_list()) "
    }
   },
   "types_to_exclude": [
    "module",
    "function",
    "builtin_function_or_method",
    "instance",
    "_Feature"
   ],
   "window_display": false
  }
 },
 "nbformat": 4,
 "nbformat_minor": 5
}
