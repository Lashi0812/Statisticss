{
 "cells": [
  {
   "cell_type": "code",
   "execution_count": 1,
   "outputs": [],
   "source": [
    "import numpy as np\n",
    "import pandas as pd\n",
    "\n",
    "import matplotlib.pyplot as plt\n",
    "import matplotlib as mpl\n"
   ],
   "metadata": {
    "collapsed": false,
    "pycharm": {
     "name": "#%%\n"
    }
   }
  },
  {
   "cell_type": "markdown",
   "source": [
    "# Linear Combination of Vector\n",
    "\n",
    "The Linear algebra is built on two operation.\n",
    "\n",
    "1. addition of two vector\n",
    "2. scalar multiplication of a vector"
   ],
   "metadata": {
    "collapsed": false,
    "pycharm": {
     "name": "#%% md\n"
    }
   }
  },
  {
   "cell_type": "code",
   "execution_count": 8,
   "outputs": [
    {
     "data": {
      "text/plain": "array([3, 4])"
     },
     "execution_count": 8,
     "metadata": {},
     "output_type": "execute_result"
    }
   ],
   "source": [
    "#additon of vector\n",
    "v = np.array([1,1])\n",
    "w = np.array([2,3])\n",
    "v+w"
   ],
   "metadata": {
    "collapsed": false,
    "pycharm": {
     "name": "#%%\n"
    }
   }
  },
  {
   "cell_type": "code",
   "execution_count": 45,
   "outputs": [
    {
     "data": {
      "text/plain": "<Figure size 432x288 with 1 Axes>",
      "image/png": "[encoded data removed]"
     },
     "metadata": {
      "needs_background": "light"
     },
     "output_type": "display_data"
    }
   ],
   "source": [
    "origin=(0,0)\n",
    "fig,ax = plt.subplots(1,1)\n",
    "vector_v = mpl.patches.FancyArrowPatch(origin,v,\n",
    "                                    mutation_scale=10)\n",
    "vector_w = mpl.patches.FancyArrowPatch(origin,w,\n",
    "                                      mutation_scale=10)\n",
    "vector_vw = mpl.patches.FancyArrowPatch(origin,v+w,\n",
    "                                        mutation_scale=10)\n",
    "ax.add_patch(vector_v)\n",
    "ax.add_patch(vector_w)\n",
    "ax.add_patch(vector_vw)\n",
    "ax.set(xlim=(-5,5),ylim=(-5,5))\n",
    "ax.axvline(x =0,linestyle =\"--\")\n",
    "ax.axhline(y=0,linestyle =\"--\")\n",
    "plt.show()"
   ],
   "metadata": {
    "collapsed": false,
    "pycharm": {
     "name": "#%%\n"
    }
   }
  },
  {
   "cell_type": "markdown",
   "source": [
    "# Elimination\n",
    "\n",
    "To the system of equation we can use the Elimination method.\n",
    "\n",
    "**Goal :** From Matrix A to upper triangular matrix (U).then do the process of back substitution in the U matrix .\n",
    "\n",
    "**Steps :**\n",
    "\n",
    "1. For the $m = n =3$ there are three equation $Ax = b$ and the three unknown $x_1,x_2,x_3$.\n",
    "2. The first two  equation are $a_{11}x + .. = b_1$ and $a_{21}x + .. = b_2$\n",
    "3. Multiply the first equation by $ a_{21} / a_{11}$ and subtract form the second equation : this  will eliminate the $x_1$ from the second equation.\n",
    "4. The corner entry $a_{11}$ is the first pivot and the ratio $a_{21} / a_{11}$ is the first \"multiplier\"\n",
    "5. Eliminate $x_1$ from the every remaining equation i  by subtracting $a_{i1} /a_{11}$ times  the first equation.\n",
    "6. Now the last n-1 equation contain the n -1 unknowns $x_2 , ... ,x_n$ . Repeat to eliminate $x_2$\n",
    "7. Elimination break down if zero apper in the pivot . Exchanign the two may save it."
   ],
   "metadata": {
    "collapsed": false,
    "pycharm": {
     "name": "#%% md\n"
    }
   }
  },
  {
   "cell_type": "code",
   "execution_count": 243,
   "outputs": [],
   "source": [
    "def elimination(matrix):\n",
    "    m = matrix.shape[0]\n",
    "    n = matrix.shape[1]\n",
    "\n",
    "    for col in range(0,m):\n",
    "        for row in range(col + 1,m):\n",
    "            ##print(row,col)\n",
    "\n",
    "            # Find the elimination matrix\n",
    "            elimination_matrix = np.identity(m)\n",
    "            elimination_matrix[row][col] = -(matrix[row][col] / matrix[col][col])\n",
    "            matrix = elimination_matrix.dot(matrix)\n",
    "\n",
    "\n",
    "            print(elimination_matrix)\n",
    "            #print(matrix)\n",
    "\n",
    "    print(elimination_matrix)\n",
    "    return elimination_matrix , matrix\n",
    "\n",
    "\n"
   ],
   "metadata": {
    "collapsed": false,
    "pycharm": {
     "name": "#%%\n"
    }
   }
  },
  {
   "cell_type": "code",
   "execution_count": 226,
   "outputs": [],
   "source": [
    "A = np.array([[2,4,-2,2],\n",
    "              [4,9,-3,8],\n",
    "              [-2,-3,7,10]]\n",
    "             )\n"
   ],
   "metadata": {
    "collapsed": false,
    "pycharm": {
     "name": "#%%\n"
    }
   }
  },
  {
   "cell_type": "code",
   "execution_count": 227,
   "outputs": [
    {
     "name": "stdout",
     "output_type": "stream",
     "text": [
      "[[ 1.  0.  0.]\n",
      " [ 0.  1.  0.]\n",
      " [ 0. -1.  1.]]\n"
     ]
    },
    {
     "data": {
      "text/plain": "(array([[ 1.,  0.,  0.],\n        [ 0.,  1.,  0.],\n        [ 0., -1.,  1.]]),\n array([[ 2.,  4., -2.,  2.],\n        [ 0.,  1.,  1.,  4.],\n        [ 0.,  0.,  4.,  8.]]))"
     },
     "execution_count": 227,
     "metadata": {},
     "output_type": "execute_result"
    }
   ],
   "source": [
    "elimination(A)"
   ],
   "metadata": {
    "collapsed": false,
    "pycharm": {
     "name": "#%%\n"
    }
   }
  },
  {
   "cell_type": "code",
   "execution_count": 228,
   "outputs": [
    {
     "name": "stdout",
     "output_type": "stream",
     "text": [
      "[[ 1.  0.]\n",
      " [-5.  1.]]\n"
     ]
    },
    {
     "data": {
      "text/plain": "(array([[ 1.,  0.],\n        [-5.,  1.]]),\n array([[ 2.,  3.,  1.],\n        [ 0., -6.,  6.]]))"
     },
     "execution_count": 228,
     "metadata": {},
     "output_type": "execute_result"
    }
   ],
   "source": [
    "prob_1 = np.array([[2,3,1],\n",
    "                   [10,9,11]])\n",
    "elimination(prob_1)"
   ],
   "metadata": {
    "collapsed": false,
    "pycharm": {
     "name": "#%%\n"
    }
   }
  },
  {
   "cell_type": "code",
   "execution_count": 229,
   "outputs": [
    {
     "name": "stdout",
     "output_type": "stream",
     "text": [
      "[[ 1.  0.]\n",
      " [-5.  1.]]\n"
     ]
    },
    {
     "data": {
      "text/plain": "(array([[ 1.,  0.],\n        [-5.,  1.]]),\n array([[ 2.,  3.,  4.],\n        [ 0., -6., 24.]]))"
     },
     "execution_count": 229,
     "metadata": {},
     "output_type": "execute_result"
    }
   ],
   "source": [
    "prob_1 = np.array([[2,3,4],\n",
    "                   [10,9,44]])\n",
    "elimination(prob_1)"
   ],
   "metadata": {
    "collapsed": false,
    "pycharm": {
     "name": "#%%\n"
    }
   }
  },
  {
   "cell_type": "markdown",
   "source": [
    "# Elimination  moving to Factorization\n",
    "\n",
    "1. From A to U we use the elimination matrix  EA = U\n",
    "2. From U to A , we use the Factorization A = LU\n",
    "3. L is inverse of E.\n",
    "4. L is lower triangulate matrix\n",
    "5. inverse of E is simply change of sign where we subtract there we need to perform the addition operation.\n",
    "\n"
   ],
   "metadata": {
    "collapsed": false,
    "pycharm": {
     "name": "#%% md\n"
    }
   }
  },
  {
   "cell_type": "code",
   "execution_count": 244,
   "outputs": [],
   "source": [
    "A = np.array([[2,1],\n",
    "              [6,8]])"
   ],
   "metadata": {
    "collapsed": false,
    "pycharm": {
     "name": "#%%\n"
    }
   }
  },
  {
   "cell_type": "code",
   "execution_count": 245,
   "outputs": [
    {
     "name": "stdout",
     "output_type": "stream",
     "text": [
      "[[ 1.  0.]\n",
      " [-3.  1.]]\n",
      "[[ 1.  0.]\n",
      " [-3.  1.]]\n"
     ]
    }
   ],
   "source": [
    "E ,U = elimination(A)\n"
   ],
   "metadata": {
    "collapsed": false,
    "pycharm": {
     "name": "#%%\n"
    }
   }
  },
  {
   "cell_type": "code",
   "execution_count": 246,
   "outputs": [
    {
     "data": {
      "text/plain": "array([[ 1.,  0.],\n       [-3.,  1.]])"
     },
     "execution_count": 246,
     "metadata": {},
     "output_type": "execute_result"
    }
   ],
   "source": [
    "# elimination matrix\n",
    "E"
   ],
   "metadata": {
    "collapsed": false,
    "pycharm": {
     "name": "#%%\n"
    }
   }
  },
  {
   "cell_type": "code",
   "execution_count": 247,
   "outputs": [
    {
     "data": {
      "text/plain": "array([[2., 1.],\n       [0., 5.]])"
     },
     "execution_count": 247,
     "metadata": {},
     "output_type": "execute_result"
    }
   ],
   "source": [
    "# Upper Triangular matrix\n",
    "U"
   ],
   "metadata": {
    "collapsed": false,
    "pycharm": {
     "name": "#%%\n"
    }
   }
  },
  {
   "cell_type": "code",
   "execution_count": 248,
   "outputs": [
    {
     "data": {
      "text/plain": "array([[ 1., -0.],\n       [ 3.,  1.]])"
     },
     "execution_count": 248,
     "metadata": {},
     "output_type": "execute_result"
    }
   ],
   "source": [
    "# Lower Triangular matrix\n",
    "L = np.linalg.inv(E)\n",
    "L"
   ],
   "metadata": {
    "collapsed": false,
    "pycharm": {
     "name": "#%%\n"
    }
   }
  },
  {
   "cell_type": "code",
   "execution_count": 249,
   "outputs": [
    {
     "data": {
      "text/plain": "array([[2., 1.],\n       [6., 8.]])"
     },
     "execution_count": 249,
     "metadata": {},
     "output_type": "execute_result"
    }
   ],
   "source": [
    "# From U we can get back to A\n",
    "L.dot(U)"
   ],
   "metadata": {
    "collapsed": false,
    "pycharm": {
     "name": "#%%\n"
    }
   }
  },
  {
   "cell_type": "markdown",
   "source": [
    "**Some point regarding L**\n",
    "1. L is lower triangular matrix.\n",
    "2. L in inverse of $E_{21}^{-1}E_{31}^{-1}E_{32}^{-1}$\n",
    "3. The off diagonal entry is $l_{ij}$ to udo the subtraction.\n",
    "4. in above example we can see that -3 change to +3 , Since we sub -3  so add again 3.\n",
    "5. A is product of lower triangular matrix and upper triangular matrix.\n",
    "6. Each multiple $l_{ij}$ directly goes into the $i,j$ position in the L . This happen when the elimination is done without row exchange."
   ],
   "metadata": {
    "collapsed": false,
    "pycharm": {
     "name": "#%% md\n"
    }
   }
  },
  {
   "cell_type": "markdown",
   "source": [
    "# Permutation\n",
    "\n",
    "\n",
    "A =  LU\n",
    "\n",
    "This doesn't count the How many row exchange happen in the elimination?\n",
    "**Factorization with row exchange:**\n",
    "$$PA = LU$$\n",
    "\n",
    "This is P is a permutation matrix , this will exchange the row of A Matrix such that there will be no zero in the pivot.\n",
    "\n",
    "P = identity matrix if there is no exchange of row in A Matrix\n",
    "\n",
    "**How many possible reordering of row in the matrix of (n * n )**\n",
    "\n",
    "$$n!$$"
   ],
   "metadata": {
    "collapsed": false,
    "pycharm": {
     "name": "#%% md\n"
    }
   }
  },
  {
   "cell_type": "markdown",
   "source": [
    "## All possible of permutation matrix\n",
    "\n",
    "* We can create the permutation matrix by reordering th row of identity matrix.\n",
    "* The Permutation matrix will have **single 1's** in every row and columns"
   ],
   "metadata": {
    "collapsed": false,
    "pycharm": {
     "name": "#%% md\n"
    }
   }
  },
  {
   "cell_type": "code",
   "execution_count": 5,
   "outputs": [
    {
     "data": {
      "text/plain": "matrix([[1, 0, 0],\n        [0, 1, 0],\n        [0, 0, 1]], dtype=int8)"
     },
     "execution_count": 5,
     "metadata": {},
     "output_type": "execute_result"
    }
   ],
   "source": [
    "# if the there is no row exchange then Permutation matrix will be identity matrix\n",
    "I = np.identity(3,dtype=np.int8)\n",
    "np.matrix(I)"
   ],
   "metadata": {
    "collapsed": false,
    "pycharm": {
     "name": "#%%\n"
    }
   }
  },
  {
   "cell_type": "code",
   "execution_count": 9,
   "outputs": [
    {
     "data": {
      "text/plain": "matrix([[0, 1, 0],\n        [1, 0, 0],\n        [0, 0, 1]], dtype=int8)"
     },
     "execution_count": 9,
     "metadata": {},
     "output_type": "execute_result"
    }
   ],
   "source": [
    "# row 0 and 1 get changed\n",
    "P10  = I.copy()\n",
    "P10[[0,1]] = P10[[1,0]]\n",
    "np.matrix(P10)"
   ],
   "metadata": {
    "collapsed": false,
    "pycharm": {
     "name": "#%%\n"
    }
   }
  },
  {
   "cell_type": "code",
   "execution_count": 21,
   "outputs": [
    {
     "name": "stdout",
     "output_type": "stream",
     "text": [
      "order (0, 1, 2)\n",
      "Permutation matrix\n",
      " [[1 0 0]\n",
      " [0 1 0]\n",
      " [0 0 1]]\n",
      "Inverse of that   \n",
      " [[1. 0. 0.]\n",
      " [0. 1. 0.]\n",
      " [0. 0. 1.]]\n",
      "order (0, 2, 1)\n",
      "Permutation matrix\n",
      " [[1 0 0]\n",
      " [0 0 1]\n",
      " [0 1 0]]\n",
      "Inverse of that   \n",
      " [[1. 0. 0.]\n",
      " [0. 0. 1.]\n",
      " [0. 1. 0.]]\n",
      "order (1, 0, 2)\n",
      "Permutation matrix\n",
      " [[0 1 0]\n",
      " [1 0 0]\n",
      " [0 0 1]]\n",
      "Inverse of that   \n",
      " [[0. 1. 0.]\n",
      " [1. 0. 0.]\n",
      " [0. 0. 1.]]\n",
      "order (1, 2, 0)\n",
      "Permutation matrix\n",
      " [[0 1 0]\n",
      " [0 0 1]\n",
      " [1 0 0]]\n",
      "Inverse of that   \n",
      " [[0. 0. 1.]\n",
      " [1. 0. 0.]\n",
      " [0. 1. 0.]]\n",
      "order (2, 0, 1)\n",
      "Permutation matrix\n",
      " [[0 0 1]\n",
      " [1 0 0]\n",
      " [0 1 0]]\n",
      "Inverse of that   \n",
      " [[0. 1. 0.]\n",
      " [0. 0. 1.]\n",
      " [1. 0. 0.]]\n",
      "order (2, 1, 0)\n",
      "Permutation matrix\n",
      " [[0 0 1]\n",
      " [0 1 0]\n",
      " [1 0 0]]\n",
      "Inverse of that   \n",
      " [[0. 0. 1.]\n",
      " [0. 1. 0.]\n",
      " [1. 0. 0.]]\n"
     ]
    }
   ],
   "source": [
    "import itertools as iter\n",
    "for order in iter.permutations(range(I.shape[0])):\n",
    "    permutation_matrix = I.copy()\n",
    "    print(\"order\" , order)\n",
    "    permutation_matrix[[0,1,2]] = permutation_matrix[list(order)]\n",
    "    print(\"Permutation matrix\\n\"  , np.matrix(permutation_matrix))\n",
    "    print(\"Inverse of that   \\n\",np.linalg.inv(permutation_matrix))"
   ],
   "metadata": {
    "collapsed": false,
    "pycharm": {
     "name": "#%%\n"
    }
   }
  },
  {
   "cell_type": "markdown",
   "source": [
    "**Important of Permutation matrix:**\n",
    "1. $P^{-1}$ is also the permutation matrix\n",
    "2. $P^{-1}$ is always same as the transpose $P^{\\intercal}$"
   ],
   "metadata": {
    "collapsed": false,
    "pycharm": {
     "name": "#%% md\n"
    }
   }
  },
  {
   "cell_type": "markdown",
   "source": [
    "# Space\n",
    "\n",
    "* $R^n$ contain all the column vector with $n$ real component(dimension)\n",
    "* $M$ (2 by 2 matrix) and $F$ (function) and $Z$ (zero vector alone) are the vector space.\n",
    "* the subspace contain the $v$ and $w$ vector then that subspace must contain all their liner combination of those vector $cv+dw$\n",
    "* **all subspace passes through the origin** because we want multiple with zero vector.\n",
    "* The combination of all column a $A$ form the column space $C(A)$ .\n",
    "* $Ax = b$ has the solution only if the $b$ lies on the column space of A $C(A)$\n",
    "    * $C(A) = $ all combination of the columns = all vectors $Ax$"
   ],
   "metadata": {
    "collapsed": false,
    "pycharm": {
     "name": "#%% md\n"
    }
   }
  },
  {
   "cell_type": "markdown",
   "source": [
    "# Null Space\n",
    "\n",
    "* The null space $N(A)$ consists of all solutions to $Ax = 0$\n",
    "* So the **null space is a subspace** of $R^n$ which is similar to column space $C(A)$ is subspace of $R^n$\n",
    "\n",
    "\n",
    "**What is Reduced row echelon form (R)?**\n",
    "$$reff(A)$$\n",
    "\n",
    "* When the R matrix has 1's in the all the pivot position and zero above and below that pivot.\n",
    "\n",
    "\n",
    "This give rise to two variable in the R matrix\n",
    "\n",
    "* pivot column : The which hav the pivot variable.The row that start with the 1's in the R matrix.\n",
    "* free column : the column which does don't have the pivot variable.\n",
    "\n",
    "<img src=\"image/img.png\">\n",
    "\n",
    "* col1, col2 , col4 are have the pivot variable\n",
    "* If you take only the pivot column , it looks the identity matrix.\n",
    "* #of pivot column(r) is rank of the A matrix(m*n).\n",
    "* for the number of free column n-r , col3 and col5 are the free columns.\n",
    "\n",
    "\n",
    "The number of free column is equal to number of special solution.\n",
    "\n",
    "\n",
    "\n",
    "\n",
    "\n"
   ],
   "metadata": {
    "collapsed": false,
    "pycharm": {
     "name": "#%% md\n"
    }
   }
  },
  {
   "cell_type": "markdown",
   "source": [
    "<img src=\"image\\img_1.png\">"
   ],
   "metadata": {
    "collapsed": false,
    "pycharm": {
     "name": "#%% md\n"
    }
   }
  },
  {
   "cell_type": "code",
   "execution_count": 24,
   "outputs": [
    {
     "data": {
      "text/plain": "(Matrix([\n [1, 2, 0, -2],\n [0, 0, 1,  2],\n [0, 0, 0,  0]]),\n (0, 2))"
     },
     "execution_count": 24,
     "metadata": {},
     "output_type": "execute_result"
    }
   ],
   "source": [
    "from sympy import *\n",
    "\n",
    "A = np.array([[1,2,2,2],\n",
    "              [2,4,6,8],\n",
    "              [3,6,8,10]])\n",
    "\n",
    "Matrix(A).rref()"
   ],
   "metadata": {
    "collapsed": false,
    "pycharm": {
     "name": "#%%\n"
    }
   }
  },
  {
   "cell_type": "markdown",
   "source": [
    "<img src=\"image\\img_2.png\">"
   ],
   "metadata": {
    "collapsed": false,
    "pycharm": {
     "name": "#%% md\n"
    }
   }
  },
  {
   "cell_type": "markdown",
   "source": [],
   "metadata": {
    "collapsed": false,
    "pycharm": {
     "name": "#%% md\n"
    }
   }
  },
  {
   "cell_type": "code",
   "execution_count": 2,
   "outputs": [],
   "source": [
    "from scipy import linalg\n",
    "import numpy as np"
   ],
   "metadata": {
    "collapsed": false,
    "pycharm": {
     "name": "#%%\n"
    }
   }
  },
  {
   "cell_type": "code",
   "execution_count": 3,
   "outputs": [],
   "source": [
    "rng = np.random.default_rng()\n",
    "a = rng.standard_normal((9,6))"
   ],
   "metadata": {
    "collapsed": false,
    "pycharm": {
     "name": "#%%\n"
    }
   }
  },
  {
   "cell_type": "code",
   "execution_count": null,
   "outputs": [],
   "source": [],
   "metadata": {
    "collapsed": false,
    "pycharm": {
     "name": "#%%\n"
    }
   }
  }
 ],
 "metadata": {
  "kernelspec": {
   "display_name": "Python 3",
   "language": "python",
   "name": "python3"
  },
  "language_info": {
   "codemirror_mode": {
    "name": "ipython",
    "version": 2
   },
   "file_extension": ".py",
   "mimetype": "text/x-python",
   "name": "python",
   "nbconvert_exporter": "python",
   "pygments_lexer": "ipython2",
   "version": "2.7.6"
  }
 },
 "nbformat": 4,
 "nbformat_minor": 0
}